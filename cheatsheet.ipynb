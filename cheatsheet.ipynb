{
 "cells": [
  {
   "cell_type": "markdown",
   "metadata": {},
   "source": [
    "# Inversion cheat sheet"
   ]
  },
  {
   "cell_type": "markdown",
   "metadata": {},
   "source": [
    "This is a summary cheet sheet which combines the key principles into one easily accessible format for the purpose of revision and access during the class test."
   ]
  },
  {
   "cell_type": "markdown",
   "metadata": {},
   "source": [
    "# Table of contents\n",
    "#### [Lecture 1: forward vs inverse problems, linear algebra](#lecture1)\n",
    "#### [Lecture 2: ](#lecture2)\n",
    "#### [Lecture 3: ](#lecture3)\n",
    "#### [Lecture 4: ](#lecture4)\n",
    "<hr/>"
   ]
  },
  {
   "cell_type": "markdown",
   "metadata": {},
   "source": [
    "## Lecture 1: forward vs inverse problems, linear algebra <a name=\"lecture1\"></a>\n",
    "\n",
    "In STEM, we must pose many problems as inversion or optimsations problems. In the most general sense, inversion asks for some function \n",
    "\n",
    "$$y=f(x),$$\n",
    "\n",
    "given $y$, what is $x$? This is contrary to the forward problem, which asks: given $x$, what is $y$? Thus, inversion problems can be formulated as \n",
    "\n",
    "$$f(x) = y,$$ \n",
    "\n",
    "or more commonly as \n",
    "\n",
    "$$A\\mathbf{x}=\\mathbf{b},$$ \n",
    "\n",
    "for a system of equations. Often, we choose to simplify our problem by approximating non-linear terms with linear functions. Then, it is important to remember that a linear function commutes with addition, i.e., \n",
    "\n",
    "$$f(\\mathbf{x+y}) = f(\\mathbf{x})+f(\\mathbf{y}),$$\n",
    "$$f(\\alpha \\mathbf{x})=\\alpha f(\\mathbf{x}), \\ \\alpha \\in \\mathbb{R}.$$\n",
    "\n",
    "### Matrix properties\n",
    "\n",
    "For some matrix $A$\n",
    "\n",
    "$$\\text{e.g.,} \\ A = \\begin{pmatrix} a & b \\\\ c&d \\end{pmatrix}$$\n",
    "\n",
    "the four basic matrix properties read that\n",
    "\n",
    "$$(A+B)^T=A^T+B^T,$$ \n",
    "\n",
    "i.e., addition and transpose operations commute,\n",
    "\n",
    "$$(\\alpha A^T)=\\alpha(A^T), \\ \\alpha \\in \\mathbb{R}$$\n",
    "\n",
    "i.e., scalar multiplication and transpose operations commute,\n",
    "\n",
    "$$(AB)^T = B^T A^T,$$\n",
    "\n",
    "i.e., matrix multiplication and transpose operations commute, and finally\n",
    "\n",
    "$$(A^T)^T = A.$$ \n",
    "\n",
    "Furthermore, we may say that \n",
    "\n",
    "$$A=A^T \\Leftrightarrow \\ A \\ \\text{is symmetric},$$\n",
    "$$A=-A^T \\Leftrightarrow \\ A \\ \\text{is skew symmetric},$$\n",
    "\n",
    "in which case \n",
    "\n",
    "$$A = \\begin{pmatrix} 0 & b \\\\ -b&0 \\end{pmatrix}.$$\n",
    "\n",
    "This classification may be important later since the eigenvalues of a symmetric matrix are always real, and those of a skew symmetric matrix are always imaginary or zero. \n",
    "\n",
    "**We can implement checks of these properties as below**\n",
    "\n"
   ]
  },
  {
   "cell_type": "code",
   "execution_count": 2,
   "metadata": {},
   "outputs": [],
   "source": [
    "import numpy as np"
   ]
  },
  {
   "cell_type": "code",
   "execution_count": 7,
   "metadata": {},
   "outputs": [
    {
     "name": "stdout",
     "output_type": "stream",
     "text": [
      "Addition commutes: True\n",
      "Scalar multiplication commutes: True\n",
      "Matrix multiplication commutes: True\n",
      "Double transpose: True\n"
     ]
    }
   ],
   "source": [
    "\"Checking transpose properties\"\n",
    "\n",
    "# Define arbitrary dimensions\n",
    "m = 3\n",
    "n = 3\n",
    "\n",
    "# Generate our random matrix\n",
    "A = np.random.random((m, n))\n",
    "B = np.random.random((m, n))\n",
    "\n",
    "# Addition commutation (ABt = AtBt)\n",
    "ABt = (A+B).T\n",
    "AtBt = A.T + B.T\n",
    "print(f'Addition commutes: {np.allclose(ABt, AtBt)}')\n",
    "\n",
    "# Scalar multiplication ((aA)t = a(At))\n",
    "alpha = 5\n",
    "\n",
    "aAt = (alpha * A).T\n",
    "a_At = alpha * (A.T)\n",
    "print(f'Scalar multiplication commutes: {np.allclose(aAt, a_At)}')\n",
    "\n",
    "# Matrix multiplication ((AB)t = AtBt)\n",
    "ABt = (A@B).T\n",
    "AtBt = B.T @ A.T\n",
    "print(f'Matrix multiplication commutes: {np.allclose(ABt, AtBt)}')\n",
    "\n",
    "# Double transpose\n",
    "Att = (A.T).T\n",
    "print(f'Double transpose: {np.allclose(Att, A)}')"
   ]
  },
  {
   "cell_type": "markdown",
   "metadata": {},
   "source": [
    "### Matirx-vector multiplication\n",
    "\n",
    "It can be useful to think of vector-matrix multiplication as the weighted sum of the columns of the matrix. For the matrix $A, \\ A \\in \\mathbb{R}^{m\\times n}$ and vector $\\mathbf{x}, \\ \\mathbf{x} \\in \\mathbb{R}^{n}$ in the system $A\\mathbf{x}=\\mathbf{b}, \\ \\mathbf{b} \\in \\mathbb{R}^m $ we can write \n",
    "\n",
    "$$\\mathbf{b_i} = \\sum^{n}_{j=1} a_{ij}x_j, \\ i=1,\\ 2, \\dots,\\ m,$$ \n",
    "\n",
    "which is equivalent to saying\n",
    "\n",
    "$$A\\mathbf{x} = [x_0 a_{:1}, \\ x_1 a_{:2}, \\dots,\\ x_n a_{:m}],$$\n",
    "\n",
    "which we can compute in the following manner."
   ]
  },
  {
   "cell_type": "code",
   "execution_count": null,
   "metadata": {},
   "outputs": [],
   "source": [
    "# Our function to execute matrix-vector mutliplication, as defined in the lecture\n",
    "\n",
    "def mat_vec_product(A, x):\n",
    "    m, n = np.shape(A)\n",
    "    assert x.ndim == 1 # restrict to the case where x is 1D\n",
    "    assert n == len(x) # as 1D we can check the length of x is consistent with A\n",
    "    b = np.zeros(m) # and then initialise to zero the appropriate length array for b\n",
    "    for i in range(m):\n",
    "        for j in range(n):\n",
    "            b[i] += A[i, j] * x[j]\n",
    "    return b"
   ]
  },
  {
   "cell_type": "code",
   "execution_count": 10,
   "metadata": {},
   "outputs": [
    {
     "data": {
      "text/plain": [
       "True"
      ]
     },
     "execution_count": 10,
     "metadata": {},
     "output_type": "execute_result"
    }
   ],
   "source": [
    "# Defining our dimensions\n",
    "m = 4\n",
    "n = 4\n",
    "\n",
    "# Let's define A and x\n",
    "A = np.random.random((m, n))\n",
    "x = np.random.random((n,))\n",
    "\n",
    "# Executing the product using the function defined in the lecture\n",
    "b = mat_vec_product(A, x)\n",
    "\n",
    "# Computing the product directly \n",
    "Ax = A@x\n",
    "\n",
    "# Checking similarity between two methods\n",
    "np.allclose(b, Ax)"
   ]
  },
  {
   "cell_type": "markdown",
   "metadata": {},
   "source": [
    "### Newton's method\n",
    "\n",
    "We can often pose an inversion problem as a root finding problem by solving iteratively for $x_{i+1}$. If we have some function $f$, then we can find a root by setting $f(x)=0$ and solving for $x$. Newton's iterative solution method reads  \n",
    "\n",
    "$$x_{i+1}=x_i - \\frac{f(x_i)}{f'(x_i)}.$$"
   ]
  },
  {
   "cell_type": "markdown",
   "metadata": {},
   "source": [
    "### Curve fitting\n",
    "\n",
    "With a system of equations, often it is the case that there is no absolute solution vector which satisfies all constraints posed by the equations in the model. In this case, our inversion problem becomes an optimisation problem. The least squares solution minimises the square difference between a function evaluated at a guess location $x_i$ and the given data points. The error $E$ can be defined as\n",
    "\n",
    "$$||A\\mathbf{x}-\\mathbf{y}||^2_2.$$ \n",
    "\n",
    "It will be shown later that the least squares solution to the system $A\\mathbf{x}=\\mathbf{b}$ is found by solving\n",
    "\n",
    "$$A^TA\\mathbf{x}=V^T\\mathbf{y},$$\n",
    "\n",
    "which holds for under determined problems. We can approximate a polynomial for a given set of data in the following manner."
   ]
  },
  {
   "cell_type": "code",
   "execution_count": 11,
   "metadata": {},
   "outputs": [],
   "source": [
    "import matplotlib.pyplot as plt"
   ]
  },
  {
   "cell_type": "code",
   "execution_count": 18,
   "metadata": {},
   "outputs": [
    {
     "name": "stdout",
     "output_type": "stream",
     "text": [
      "\n",
      "poly_coeffs = \n",
      " [-0.00552147  0.09889271 -0.43193108  0.75909819]\n"
     ]
    },
    {
     "data": {
      "image/png": "[encoded data removed]",
      "text/plain": [
       "<Figure size 800x600 with 1 Axes>"
      ]
     },
     "metadata": {},
     "output_type": "display_data"
    }
   ],
   "source": [
    "# Our data from Lecture 1:\n",
    "x = np.array([0.5, 2.0, 4.0, 5.0, 7.0, 9.0])\n",
    "y = np.array([0.5, 0.4, 0.3, 0.1, 0.9, 0.8])\n",
    "\n",
    "# Consider a polynomial of degree 3 - so not high enough to go through all the data\n",
    "N = 3\n",
    "\n",
    "# Compare against the coefficient that numpy's polyfit gives us\n",
    "poly_coeffs = np.polyfit(x, y, N)\n",
    "print('\\npoly_coeffs = \\n', poly_coeffs)\n",
    "\n",
    "xx = np.linspace(0, 10, 100) # To generate smooth curve\n",
    "\n",
    "# Evaluate the polynomial at the given x values\n",
    "y_poly = np.polyval(poly_coeffs, xx)\n",
    "\n",
    "# set up figure\n",
    "fig = plt.figure(figsize=(8, 6))\n",
    "ax1 = fig.add_subplot(111)\n",
    "ax1.margins(0.1)\n",
    "\n",
    "# Overlay raw data\n",
    "ax1.plot(x, y, 'ko', label='Raw data')\n",
    "ax1.plot(xx, y_poly, 'r-', label='Fitted polynomial')\n",
    "ax1.set_xlabel('$x$', fontsize=16)\n",
    "ax1.set_ylabel('$y$', fontsize=16)\n",
    "ax1.set_title('Least squares approximation of a cubic to multiple data points', fontsize=16)\n",
    "ax1.grid(True)\n",
    "ax1.legend(loc='best', fontsize=14);"
   ]
  },
  {
   "cell_type": "markdown",
   "metadata": {},
   "source": [
    "## Lecture 2: <a name=\"lecture2\"></a>"
   ]
  },
  {
   "cell_type": "markdown",
   "metadata": {},
   "source": [
    "## Lecture 3: <a name=\"lecture3\"></a>\n",
    "\n",
    "We can often pose an inversion problem as a root finding problem by solving iteratively for $x_{i+1}$. If we have some function $f$, then we can find a root by setting $f(x)=0$ and solving for $x$. Then, in a similar way, if we have $g(x)=f'(x)$ then the $x$ for which $g(x)=0$ are minimum solutions to the problem. By posing the problem in this manner it becomes a minimsiation problem and we can apply Newton's method as\n",
    "\n",
    "$$x_{i+1}=x_i - \\frac{g(x_i)}{g'(x_i)}$$"
   ]
  },
  {
   "cell_type": "markdown",
   "metadata": {},
   "source": [
    "## Lecture 4: <a name=\"lecture4\"></a>"
   ]
  }
 ],
 "metadata": {
  "kernelspec": {
   "display_name": "Python 3",
   "language": "python",
   "name": "python3"
  },
  "language_info": {
   "codemirror_mode": {
    "name": "ipython",
    "version": 3
   },
   "file_extension": ".py",
   "mimetype": "text/x-python",
   "name": "python",
   "nbconvert_exporter": "python",
   "pygments_lexer": "ipython3",
   "version": "3.12.6"
  }
 },
 "nbformat": 4,
 "nbformat_minor": 2
}
