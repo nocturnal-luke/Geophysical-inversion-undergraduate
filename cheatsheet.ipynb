{
 "cells": [
  {
   "cell_type": "markdown",
   "metadata": {},
   "source": [
    "# Inversion cheat sheet"
   ]
  },
  {
   "cell_type": "markdown",
   "metadata": {},
   "source": [
    "This is a summary cheet sheet which combines the key principles into one easily accessible format for the purpose of revision and access during the class test."
   ]
  },
  {
   "cell_type": "markdown",
   "metadata": {},
   "source": [
    "# Table of contents\n",
    "#### [Lecture 1: ](#lecture1)\n",
    "#### [Lecture 2: ](#lecture2)\n",
    "#### [Lecture 3: ](#lecture3)\n",
    "#### [Lecture 4: ](#lecture4)\n",
    "<hr/>"
   ]
  },
  {
   "cell_type": "markdown",
   "metadata": {},
   "source": [
    "## Lecture 1: forward vs inver problems, linear algebra <a name=\"lecture1\"></a>\n",
    "\n",
    "In STEM, we must pose many problems as inversion or optimsations problems. In the most general sense, inversion asks for some function \n",
    "\n",
    "$$y=f(x),$$\n",
    "\n",
    "given $y$, what is $x$? This is contrary to the forward problem, which asks: given $x$, what is $y$? Thus, inversion problems can be formulated as \n",
    "\n",
    "$$f(x) = y,$$ \n",
    "\n",
    "or more commonly as \n",
    "\n",
    "$$A\\mathbf{x}=\\mathbf{b},$$ \n",
    "\n",
    "for a system of equations. Often, we choose to simplify our problem by approximating non-linear terms with linear functions. Then, it is important to remember that a linear function commutes with addition, i.e., \n",
    "\n",
    "$$f(\\mathbf{x+y}) = f(\\mathbf{x})+f(\\mathbf{y}),$$\n",
    "$$f(\\alpha \\mathbf{x})=\\alpha f(\\mathbf{x}), \\ \\alpha \\in \\mathbb{R}.$$\n",
    "\n",
    "### Newton's method\n",
    "\n",
    "We can often pose an inversion problem as a root finding problem by solving iteratively for $x_{i+1}$. If we have some function $f$, then we can find a root by setting $f(x)=0$ and solving for $x$. Then, in a similar way, if we have $g(x)=f'(x)$ then the $x$ for which $g(x)=0$ are minimum solutions to the problem. By posing the problem in this manner, we can apply Newton's method to   \n",
    "\n",
    "$$x_{i+1}=x_i - \\frac{f(x_i)/f'(x_i)}$$"
   ]
  },
  {
   "cell_type": "markdown",
   "metadata": {},
   "source": [
    "## Lecture 2: <a name=\"lecture2\"></a>"
   ]
  },
  {
   "cell_type": "markdown",
   "metadata": {},
   "source": [
    "## Lecture 3: <a name=\"lecture3\"></a>\n",
    "\n",
    "We can often pose an inversion problem as a root finding problem by solving iteratively for $x_{i+1}$. If we have some function $f$, then we can find a root by setting $f(x)=0$ and solving for $x$. Then, in a similar way, if we have $g(x)=f'(x)$ then the $x$ for which $g(x)=0$ are minimum solutions to the problem. By posing the problem in this manner, we can apply Newton's method to"
   ]
  },
  {
   "cell_type": "markdown",
   "metadata": {},
   "source": [
    "## Lecture 4: <a name=\"lecture4\"></a>"
   ]
  }
 ],
 "metadata": {
  "language_info": {
   "name": "python"
  }
 },
 "nbformat": 4,
 "nbformat_minor": 2
}
