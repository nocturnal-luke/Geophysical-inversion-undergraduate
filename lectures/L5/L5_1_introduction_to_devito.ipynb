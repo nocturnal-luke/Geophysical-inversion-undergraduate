{
  "cells": [
    {
      "cell_type": "markdown",
      "metadata": {
        "id": "QAANT2Ddbvhz"
      },
      "source": [
        "# Lecture 5 - Finite differences and an introduction to Devito\n",
        "\n",
        "## Forward (and backward) modelling\n",
        "\n",
        "In introducing the FWI workflow in lecture 3, it's clear that modelling the propagation of waves in the medium (we are imaging) is a fundamental part of the algorithm. For this modelling, a whole range of wave-equations (isotropic-acoustic, elastic, viscoelastic, anisotropic-viscoacoustic etc. etc.) and numerical techniques (Finite difference, finite (spectral) element) are available.\n",
        "\n",
        "Which choices are 'better' depends on a huge number of factors:\n",
        "- What problem are we solving?\n",
        "- How good is our field/lab data and what information does it contain?\n",
        "- How big is our computer/How much time/money do we have? i.e. What computational resources are available?\n",
        "- What codes do we have?\n",
        "\n",
        "For the purpose of todays lecture, we'll focus on solving the isotropic acoustic wave-equation via the finite difference method. To build our wave-propagator we'll utilize the domain specific language **Devito**."
      ]
    },
    {
      "cell_type": "code",
      "source": [
        "!pip install devito"
      ],
      "metadata": {
        "colab": {
          "base_uri": "https://localhost:8080/"
        },
        "id": "1oQWHixXbxza",
        "outputId": "3c4220a7-a54e-4b35-9c74-7fa31585131b"
      },
      "execution_count": 1,
      "outputs": [
        {
          "output_type": "stream",
          "name": "stdout",
          "text": [
            "Collecting devito\n",
            "  Downloading devito-4.8.12-py3-none-any.whl.metadata (3.6 kB)\n",
            "Requirement already satisfied: pip>=9.0.1 in /usr/local/lib/python3.11/dist-packages (from devito) (24.1.2)\n",
            "Requirement already satisfied: psutil<8.0,>=5.1.0 in /usr/local/lib/python3.11/dist-packages (from devito) (5.9.5)\n",
            "Requirement already satisfied: py-cpuinfo<10 in /usr/local/lib/python3.11/dist-packages (from devito) (9.0.0)\n",
            "Collecting cgen>=2020.1 (from devito)\n",
            "  Downloading cgen-2020.1.tar.gz (19 kB)\n",
            "  Preparing metadata (setup.py) ... \u001b[?25l\u001b[?25hdone\n",
            "Collecting codepy>=2019.1 (from devito)\n",
            "  Downloading codepy-2023.1.tar.gz (21 kB)\n",
            "  Preparing metadata (setup.py) ... \u001b[?25l\u001b[?25hdone\n",
            "Requirement already satisfied: click<9.0 in /usr/local/lib/python3.11/dist-packages (from devito) (8.1.8)\n",
            "Requirement already satisfied: multidict in /usr/local/lib/python3.11/dist-packages (from devito) (6.1.0)\n",
            "Collecting anytree<=2.12.1,>=2.4.3 (from devito)\n",
            "  Downloading anytree-2.12.1-py3-none-any.whl.metadata (8.1 kB)\n",
            "Requirement already satisfied: cloudpickle in /usr/local/lib/python3.11/dist-packages (from devito) (3.1.1)\n",
            "Requirement already satisfied: sympy<1.14,>=1.12.1 in /usr/local/lib/python3.11/dist-packages (from devito) (1.13.1)\n",
            "Collecting numpy<2.3,>=2.0 (from devito)\n",
            "  Downloading numpy-2.2.3-cp311-cp311-manylinux_2_17_x86_64.manylinux2014_x86_64.whl.metadata (62 kB)\n",
            "\u001b[2K     \u001b[90m━━━━━━━━━━━━━━━━━━━━━━━━━━━━━━━━━━━━━━━━\u001b[0m \u001b[32m62.0/62.0 kB\u001b[0m \u001b[31m2.1 MB/s\u001b[0m eta \u001b[36m0:00:00\u001b[0m\n",
            "\u001b[?25hRequirement already satisfied: six in /usr/local/lib/python3.11/dist-packages (from anytree<=2.12.1,>=2.4.3->devito) (1.17.0)\n",
            "Collecting pytools>=2015.1.2 (from cgen>=2020.1->devito)\n",
            "  Downloading pytools-2025.1.1-py3-none-any.whl.metadata (3.0 kB)\n",
            "Requirement already satisfied: platformdirs>=2.2.0 in /usr/local/lib/python3.11/dist-packages (from codepy>=2019.1->devito) (4.3.6)\n",
            "Requirement already satisfied: mpmath<1.4,>=1.1.0 in /usr/local/lib/python3.11/dist-packages (from sympy<1.14,>=1.12.1->devito) (1.3.0)\n",
            "Requirement already satisfied: typing-extensions>=4.5 in /usr/local/lib/python3.11/dist-packages (from pytools>=2015.1.2->cgen>=2020.1->devito) (4.12.2)\n",
            "Downloading devito-4.8.12-py3-none-any.whl (589 kB)\n",
            "\u001b[2K   \u001b[90m━━━━━━━━━━━━━━━━━━━━━━━━━━━━━━━━━━━━━━━━\u001b[0m \u001b[32m589.3/589.3 kB\u001b[0m \u001b[31m4.7 MB/s\u001b[0m eta \u001b[36m0:00:00\u001b[0m\n",
            "\u001b[?25hDownloading anytree-2.12.1-py3-none-any.whl (44 kB)\n",
            "\u001b[2K   \u001b[90m━━━━━━━━━━━━━━━━━━━━━━━━━━━━━━━━━━━━━━━━\u001b[0m \u001b[32m44.9/44.9 kB\u001b[0m \u001b[31m3.1 MB/s\u001b[0m eta \u001b[36m0:00:00\u001b[0m\n",
            "\u001b[?25hDownloading numpy-2.2.3-cp311-cp311-manylinux_2_17_x86_64.manylinux2014_x86_64.whl (16.4 MB)\n",
            "\u001b[2K   \u001b[90m━━━━━━━━━━━━━━━━━━━━━━━━━━━━━━━━━━━━━━━━\u001b[0m \u001b[32m16.4/16.4 MB\u001b[0m \u001b[31m54.3 MB/s\u001b[0m eta \u001b[36m0:00:00\u001b[0m\n",
            "\u001b[?25hDownloading pytools-2025.1.1-py3-none-any.whl (92 kB)\n",
            "\u001b[2K   \u001b[90m━━━━━━━━━━━━━━━━━━━━━━━━━━━━━━━━━━━━━━━━\u001b[0m \u001b[32m92.8/92.8 kB\u001b[0m \u001b[31m5.6 MB/s\u001b[0m eta \u001b[36m0:00:00\u001b[0m\n",
            "\u001b[?25hBuilding wheels for collected packages: cgen, codepy\n",
            "  Building wheel for cgen (setup.py) ... \u001b[?25l\u001b[?25hdone\n",
            "  Created wheel for cgen: filename=cgen-2020.1-py3-none-any.whl size=15822 sha256=df9988d9c3e4f125196a963fe921bd30c16dff99edae720081faf953e91490e8\n",
            "  Stored in directory: /root/.cache/pip/wheels/01/34/f5/22d1829ddda18b9c41750593a5b8845f86d507317100457abd\n",
            "  Building wheel for codepy (setup.py) ... \u001b[?25l\u001b[?25hdone\n",
            "  Created wheel for codepy: filename=codepy-2023.1-py3-none-any.whl size=24870 sha256=565b1b4fd48234b4102e40f781e1eb40947896be13014cff9aac0996e704006b\n",
            "  Stored in directory: /root/.cache/pip/wheels/50/e4/42/56224a0f1f9d2260ed7525f560a46785f90952794d17d9be2e\n",
            "Successfully built cgen codepy\n",
            "Installing collected packages: pytools, numpy, anytree, cgen, codepy, devito\n",
            "  Attempting uninstall: numpy\n",
            "    Found existing installation: numpy 1.26.4\n",
            "    Uninstalling numpy-1.26.4:\n",
            "      Successfully uninstalled numpy-1.26.4\n",
            "\u001b[31mERROR: pip's dependency resolver does not currently take into account all the packages that are installed. This behaviour is the source of the following dependency conflicts.\n",
            "tensorflow 2.18.0 requires numpy<2.1.0,>=1.26.0, but you have numpy 2.2.3 which is incompatible.\n",
            "gensim 4.3.3 requires numpy<2.0,>=1.18.5, but you have numpy 2.2.3 which is incompatible.\n",
            "pytensor 2.27.1 requires numpy<2,>=1.17.0, but you have numpy 2.2.3 which is incompatible.\n",
            "langchain 0.3.19 requires numpy<2,>=1.26.4; python_version < \"3.12\", but you have numpy 2.2.3 which is incompatible.\n",
            "thinc 8.2.5 requires numpy<2.0.0,>=1.19.0; python_version >= \"3.9\", but you have numpy 2.2.3 which is incompatible.\n",
            "numba 0.61.0 requires numpy<2.2,>=1.24, but you have numpy 2.2.3 which is incompatible.\u001b[0m\u001b[31m\n",
            "\u001b[0mSuccessfully installed anytree-2.12.1 cgen-2020.1 codepy-2023.1 devito-4.8.12 numpy-2.2.3 pytools-2025.1.1\n"
          ]
        }
      ]
    },
    {
      "cell_type": "markdown",
      "metadata": {
        "id": "RqdVpr3Xbvh1"
      },
      "source": [
        "## What is a domain specific language (DSL) and what is Devito?\n",
        "\n",
        "From [Wikipedia](https://en.wikipedia.org/wiki/Domain-specific_language):\n",
        "\n",
        "*A domain-specific language (DSL) is a computer language specialized to a particular application domain. This is in contrast to a general-purpose language (GPL), which is broadly applicable across domains. There are a wide variety of DSLs, ranging from widely used languages for common domains, such as HTML for web pages, down to languages used by only one or a few pieces of software, such as MUSH soft code. DSLs can be further subdivided by the kind of language, and include domain-specific markup languages, domain-specific modeling languages (more generally, specification languages), and domain-specific programming languages. Special-purpose computer languages have always existed in the computer age, but the term \"domain-specific language\" has become more popular due to the rise of domain-specific modeling. Simpler DSLs, particularly ones used by a single application, are sometimes informally called mini-languages.*\n",
        "\n",
        "Devito for example, is a DSL designed for solving partial differential equations via the finite difference method (or more generally performing stencil based computations on structured grids). A few more bits of information re. Devito:\n",
        "- Devito is an [open source](https://github.com/devitocodes/devito) developed in the Department of Earth Science and Engineering at Imperial College.\n",
        "- It is in fact a DSL and **compiler**:\n",
        " - The DSL heavily subclasses (makes lots of use of) `SymPy` and the compiler *converts* the symbolic specification of the mathematics problem into optimized c-code.\n",
        "- Devito can compile c-code suitable for use on Super-computers and GPUs out of the box.\n",
        "\n",
        "Before talking about anything more, lets dive in and see Devito in action.\n",
        "\n",
        "## Introduction to the Devito DSL (and finite differences)\n",
        "\n",
        "For convenience, we import all Devito modules:"
      ]
    },
    {
      "cell_type": "code",
      "execution_count": 2,
      "metadata": {
        "id": "LiG_LxQvbvh2"
      },
      "outputs": [],
      "source": [
        "from devito import * # (Not a good idea in an actual project!)"
      ]
    },
    {
      "cell_type": "markdown",
      "metadata": {
        "id": "2Xo2q3vQbvh3"
      },
      "source": [
        "### From equations to code in a few lines of Python\n",
        "\n",
        "The main objective of this section is to demonstrate how Devito and its [SymPy](http://www.sympy.org/en/index.html)-powered symbolic API can be used to solve partial differential equations using the finite difference method with highly optimized stencils in a few lines of Python. We demonstrate how computational stencils can be derived directly from the equation in an automated fashion and how Devito can be used to generate and execute, at runtime, the desired numerical scheme in the form of optimized C code.\n",
        "\n",
        "### Defining the physical domain\n",
        "\n",
        "Before we can begin creating finite-difference (FD) stencils we will need to give Devito a few details regarding the computational domain within which we wish to solve our problem. For this purpose we create a `Grid` object that stores the physical `extent` (the size) of our domain and knows how many points we want to use in each dimension to discretise our data.\n",
        "\n",
        "<img src=\"https://github.com/nocturnal-luke/Geophysical-inversion-undergraduate/blob/main/lectures/L5/figures/grid.png?raw=1\" style=\"width: 220px;\"/>"
      ]
    },
    {
      "cell_type": "code",
      "execution_count": 3,
      "metadata": {
        "colab": {
          "base_uri": "https://localhost:8080/"
        },
        "id": "QrbUvQEFbvh3",
        "outputId": "83f9e103-03a6-46f2-ecdd-89db6b10e318"
      },
      "outputs": [
        {
          "output_type": "execute_result",
          "data": {
            "text/plain": [
              "Grid[extent=(1.0, 1.0), shape=(5, 6), dimensions=(x, y)]"
            ]
          },
          "metadata": {},
          "execution_count": 3
        }
      ],
      "source": [
        "grid = Grid(shape=(5, 6), extent=(1., 1.))\n",
        "grid"
      ]
    },
    {
      "cell_type": "markdown",
      "metadata": {
        "id": "wlJsrFSLbvh4"
      },
      "source": [
        "### Functions and data\n",
        "\n",
        "To express our equation in symbolic form and discretise it using finite differences, Devito provides a set of `Function` types. A `Function` object:\n",
        "\n",
        "1. Behaves like a `sympy.Function` symbol\n",
        "2. Manages data associated with the symbol\n",
        "\n",
        "To get more information on how to create and use a `Function` object, or any type provided by Devito, we can take a look at the documentation."
      ]
    },
    {
      "cell_type": "code",
      "execution_count": 4,
      "metadata": {
        "colab": {
          "base_uri": "https://localhost:8080/"
        },
        "id": "zyqMfeVmbvh4",
        "outputId": "9b35b4aa-cd17-4ca9-88ce-4aaf6189a4cd"
      },
      "outputs": [
        {
          "output_type": "stream",
          "name": "stdout",
          "text": [
            "\n",
            "    Tensor symbol representing a discrete function in symbolic equations.\n",
            "\n",
            "    A Function carries multi-dimensional data and provides operations to create\n",
            "    finite-differences approximations.\n",
            "\n",
            "    A Function encapsulates space-varying data; for data that also varies in time,\n",
            "    use TimeFunction instead.\n",
            "\n",
            "    Parameters\n",
            "    ----------\n",
            "    name : str\n",
            "        Name of the symbol.\n",
            "    grid : Grid, optional\n",
            "        Carries shape, dimensions, and dtype of the Function. When grid is not\n",
            "        provided, shape and dimensions must be given. For MPI execution, a\n",
            "        Grid is compulsory.\n",
            "    space_order : int or 3-tuple of ints, optional, default=1\n",
            "        Discretisation order for space derivatives.\n",
            "        `space_order` also impacts the number of points available around a\n",
            "        generic point of interest.  By default, `space_order` points are\n",
            "        available on both sides of a generic point of interest, including those\n",
            "        nearby the grid boundary. Sometimes, fewer points suffice; in other\n",
            "        scenarios, more points are necessary. In such cases, instead of an\n",
            "        integer, one can pass:\n",
            "          * a 3-tuple `(o, lp, rp)` indicating the discretization order\n",
            "            (`o`) as well as the number of points on the left (`lp`) and\n",
            "            right (`rp`) sides of a generic point of interest;\n",
            "          * a 2-tuple `(o, ((lp0, rp0), (lp1, rp1), ...))` indicating the\n",
            "            discretization order (`o`) as well as the number of points on\n",
            "            the left/right sides of a generic point of interest for each\n",
            "            SpaceDimension.\n",
            "    shape : tuple of ints, optional\n",
            "        Shape of the domain region in grid points. Only necessary if `grid`\n",
            "        isn't given.\n",
            "    dimensions : tuple of Dimension, optional\n",
            "        Dimensions associated with the object. Only necessary if `grid` isn't\n",
            "        given.\n",
            "    dtype : data-type, optional, default=np.float32\n",
            "        Any object that can be interpreted as a numpy data type.\n",
            "    staggered : Dimension or tuple of Dimension or Stagger, optional, default=None\n",
            "        Define how the Function is staggered.\n",
            "    initializer : callable or any object exposing the buffer interface, default=None\n",
            "        Data initializer. If a callable is provided, data is allocated lazily.\n",
            "    allocator : MemoryAllocator, optional\n",
            "        Controller for memory allocation. To be used, for example, when one wants\n",
            "        to take advantage of the memory hierarchy in a NUMA architecture. Refer to\n",
            "        `default_allocator.__doc__` for more information.\n",
            "    padding : int or tuple of ints, optional\n",
            "        Allocate extra grid points to maximize data access alignment. When a tuple\n",
            "        of ints, one int per Dimension should be provided.\n",
            "\n",
            "    Examples\n",
            "    --------\n",
            "    Creation\n",
            "\n",
            "    >>> from devito import Grid, Function\n",
            "    >>> grid = Grid(shape=(4, 4))\n",
            "    >>> f = Function(name='f', grid=grid)\n",
            "    >>> f\n",
            "    f(x, y)\n",
            "    >>> g = Function(name='g', grid=grid, space_order=2)\n",
            "    >>> g\n",
            "    g(x, y)\n",
            "\n",
            "    First-order derivatives through centered finite-difference approximations\n",
            "\n",
            "    >>> f.dx\n",
            "    Derivative(f(x, y), x)\n",
            "    >>> f.dy\n",
            "    Derivative(f(x, y), y)\n",
            "    >>> g.dx\n",
            "    Derivative(g(x, y), x)\n",
            "    >>> (f + g).dx\n",
            "    Derivative(f(x, y) + g(x, y), x)\n",
            "\n",
            "    First-order derivatives through left/right finite-difference approximations\n",
            "\n",
            "    >>> f.dxl\n",
            "    Derivative(f(x, y), x)\n",
            "\n",
            "    Note that the fact that it's a left-derivative isn't captured in the representation.\n",
            "    However, upon derivative expansion, this becomes clear\n",
            "\n",
            "    >>> f.dxl.evaluate\n",
            "    f(x, y)/h_x - f(x - h_x, y)/h_x\n",
            "    >>> f.dxr\n",
            "    Derivative(f(x, y), x)\n",
            "\n",
            "    Second-order derivative through centered finite-difference approximation\n",
            "\n",
            "    >>> g.dx2\n",
            "    Derivative(g(x, y), (x, 2))\n",
            "\n",
            "    Notes\n",
            "    -----\n",
            "    The parameters must always be given as keyword arguments, since SymPy\n",
            "    uses `*args` to (re-)create the dimension arguments of the symbolic object.\n",
            "    \n"
          ]
        }
      ],
      "source": [
        "print(Function.__doc__)"
      ]
    },
    {
      "cell_type": "markdown",
      "metadata": {
        "id": "siEKYDhcbvh5"
      },
      "source": [
        "Ok, let's create a function $f(x, y)$ and look at the data Devito has associated with it. Please note that it is important to use explicit keywords, such as `name` or `grid` when creating `Function` objects."
      ]
    },
    {
      "cell_type": "code",
      "execution_count": 5,
      "metadata": {
        "colab": {
          "base_uri": "https://localhost:8080/",
          "height": 39
        },
        "id": "IgGA1sGAbvh5",
        "outputId": "01352fd2-9c5e-47ea-a6b3-c342c9ac97cd"
      },
      "outputs": [
        {
          "output_type": "execute_result",
          "data": {
            "text/plain": [
              "f(x, y)"
            ],
            "text/latex": "$\\displaystyle f(x, y)$"
          },
          "metadata": {},
          "execution_count": 5
        }
      ],
      "source": [
        "f = Function(name='f', grid=grid)\n",
        "f"
      ]
    },
    {
      "cell_type": "code",
      "execution_count": 6,
      "metadata": {
        "colab": {
          "base_uri": "https://localhost:8080/"
        },
        "id": "ldexZi9Vbvh5",
        "outputId": "44ea1777-0fd7-4574-ab95-fdbfdf7c31a1"
      },
      "outputs": [
        {
          "output_type": "execute_result",
          "data": {
            "text/plain": [
              "Data([[0., 0., 0., 0., 0., 0.],\n",
              "      [0., 0., 0., 0., 0., 0.],\n",
              "      [0., 0., 0., 0., 0., 0.],\n",
              "      [0., 0., 0., 0., 0., 0.],\n",
              "      [0., 0., 0., 0., 0., 0.]], dtype=float32)"
            ]
          },
          "metadata": {},
          "execution_count": 6
        }
      ],
      "source": [
        "f.data"
      ]
    },
    {
      "cell_type": "markdown",
      "metadata": {
        "id": "VF4xxW9Cbvh6"
      },
      "source": [
        "By default, Devito `Function` objects use the spatial dimensions `(x, y)` for 2D grids and `(x, y, z)` for 3D grids. To solve a PDE over several timesteps a time dimension is also required by our symbolic function. For this Devito provides an additional function type, the `TimeFunction`, which incorporates the correct dimension along with some other intricacies needed to create a time stepping scheme."
      ]
    },
    {
      "cell_type": "code",
      "execution_count": 7,
      "metadata": {
        "colab": {
          "base_uri": "https://localhost:8080/",
          "height": 39
        },
        "id": "eudCQRSIbvh6",
        "outputId": "e7f8e768-d1ce-4edb-ff8c-42b8e1893150"
      },
      "outputs": [
        {
          "output_type": "execute_result",
          "data": {
            "text/plain": [
              "g(t, x, y)"
            ],
            "text/latex": "$\\displaystyle g(t, x, y)$"
          },
          "metadata": {},
          "execution_count": 7
        }
      ],
      "source": [
        "g = TimeFunction(name='g', grid=grid)\n",
        "g"
      ]
    },
    {
      "cell_type": "markdown",
      "metadata": {
        "id": "BNlCSw2Ubvh6"
      },
      "source": [
        "Since the default time order of a `TimeFunction` is `1`, the shape of `f` is `(2, 5, 6)`, i.e. Devito has allocated two buffers to represent `g(t, x, y)` and `g(t + dt, x, y)`:"
      ]
    },
    {
      "cell_type": "code",
      "execution_count": 8,
      "metadata": {
        "colab": {
          "base_uri": "https://localhost:8080/"
        },
        "id": "X2p3ORoMbvh7",
        "outputId": "5dd98e54-565a-4059-a6ed-616d7ae8d4ae"
      },
      "outputs": [
        {
          "output_type": "execute_result",
          "data": {
            "text/plain": [
              "(2, 5, 6)"
            ]
          },
          "metadata": {},
          "execution_count": 8
        }
      ],
      "source": [
        "g.shape"
      ]
    },
    {
      "cell_type": "markdown",
      "metadata": {
        "id": "WdJ4ie8Ubvh7"
      },
      "source": [
        "### Derivatives of symbolic functions (and a detour into finite differences)\n",
        "\n",
        "First, lets have a quick overview of Finite differences. Consider a function $f(x,t)$. Recall that the Taylor series of $f(x,t)$ in the spatial dimension takes the form\n",
        "\n",
        "\\begin{equation*}\n",
        " f(x+h,t)=f(x,t)+\\frac{\\partial f}{\\partial x}h+\\frac{1}{2}\\frac{\\partial^2 f}{\\partial x^2}h^2+\\frac{1}{3!}\\frac{\\partial^3 f}{\\partial x^3}h^3+\\frac{1}{4!}\\frac{\\partial^4 f}{\\partial x^4}h^4+\\ldots.\n",
        "\\end{equation*}\n",
        "\n",
        "We can re-arrange the above expansion in the form\n",
        "\n",
        "\\begin{equation*}\n",
        " \\frac{\\partial f}{\\partial x}=\\frac{f(x+h,t)-f(x,t)}{h}-\\frac{1}{h}\\sum_{n=2}^{\\infty}\\frac{1}{n!}\\frac{\\partial^n f}{\\partial x^n}h^n.\n",
        "\\end{equation*}\n",
        "\n",
        "Thus, provided $h$ is small we can say\n",
        "\n",
        "\\begin{equation*}\n",
        " \\frac{\\partial f}{\\partial x}\\approx\\frac{f(x+h,t)-f(x,t)}{h},\n",
        "\\end{equation*}\n",
        "\n",
        "which will have an associated error\n",
        "\n",
        "\\begin{equation*}\n",
        "-\\frac{1}{h}\\sum_{n=2}^{\\infty}\\frac{1}{n!}\\frac{\\partial^n f}{\\partial x^n}h^n\n",
        "\\end{equation*}\n",
        "\n",
        "In comparison to our result (again, provided $h$ is small) the associated error will therefore be proportional to $h^2$ (if $h$ is small, $h^2$ will be very small and $h^3$ will be tiny). It is common to write this as\n",
        "\n",
        "\\begin{equation*}\n",
        " \\frac{\\partial f}{\\partial x}=\\frac{f(x+h,t)-f(x,t)+\\mathcal{O}(h^2)}{h}.\n",
        "\\end{equation*}\n",
        "\n",
        "This is the well known *forward difference* approximation and is how spatial derivatives are approximated in 'space order' 1 finite difference schemes.\n",
        "\n",
        "We can also write the following Taylor expansion\n",
        "\n",
        "\\begin{equation*}\n",
        " f(x-h,t)=f(x,t)-\\frac{\\partial f}{\\partial x}h+\\frac{1}{2}\\frac{\\partial^2 f}{\\partial x^2}h^2-\\frac{1}{3!}\\frac{\\partial^3 f}{\\partial x^3}h^3+\\frac{1}{4!}\\frac{\\partial^4 f}{\\partial x^4}h^4+\\ldots.\n",
        "\\end{equation*}\n",
        "\n",
        "This leads to the backward difference approximation which is also 'first oder accurate' (i.e. the error is proportional to $h^2$)\n",
        "\n",
        "\\begin{equation*}\n",
        " \\frac{\\partial f}{\\partial x}\\approx\\frac{f(x,t)-f(x-h,t)}{h}.\n",
        "\\end{equation*}\n",
        "\n",
        "Note now that if we look at $f(x+h)-f(x-h)$ and re-arrange we arrive at\n",
        "\n",
        "\\begin{equation*}\n",
        " \\frac{\\partial f}{\\partial x}=\\frac{f(x+h,t)-f(x-h,t)+\\mathcal{O}(h^3)}{2h},\n",
        "\\end{equation*}\n",
        "\n",
        "which is known as the centered difference approximation. Notice that now the $h^2$ terms cancel and the error is 'pushed' back to be of order $h^3$. That is, this approximation is (in theory) more accurate.\n",
        "\n",
        "We can continue this process by considering more and more expansions and solving the resulting set of 'simultaneous equations' for $\\partial f/\\partial x$ to create higher and higher order approximations. For example, if we consider the expansions $f(x+2h,t)$ and $f(x-2h,t)$ we arrive at a 'fourth order' accurate scheme of the form\n",
        "\n",
        "\\begin{equation*}\n",
        " \\frac{\\partial f}{\\partial x}=\\frac{\\frac{1}{12}f(x-2h,t)-\\frac{2}{3}f(x-h,t)+\\frac{2}{3}f(x+h,t)-\\frac{1}{12}f(x+2h,t)+\\mathcal{O}(h^5)}{h}.\n",
        "\\end{equation*}\n",
        "\n",
        "Notice that as we increase the accuracy of our approximation the **stencil** becomes larger (and hence computations with higher order stencils become more demanding).\n",
        "\n",
        "Through this process of manipulating Taylor series we can also derive approximations for other derivatives. For example, summing the series expansions $f(x+h,t)+f(x-h,t)$ and re-ordering we arrive at\n",
        "\n",
        "\\begin{equation*}\n",
        "  \\frac{\\partial^2 f}{\\partial x^2}=\\frac{f(x-h,t)-2f(x,t)+f(x+h,t)+\\mathcal{O}(h^3)}{h^2}.\n",
        "\\end{equation*}\n",
        "\n",
        "Further, we can do the same thing for time derivatives (or other spatial dimensions in higher dimensional problems) and arrive at\n",
        "\n",
        "\\begin{equation*}\n",
        " \\frac{\\partial f}{\\partial t}\\approx\\frac{f(x,t+\\delta t)-f(x,t)}{\\delta t},\n",
        "\\end{equation*}\n",
        "\n",
        "where $\\delta t$ is some small increment in time. This then allows us to create 'time-stepping schemes'. For example, consider the partial differential equation\n",
        "\n",
        "\\begin{equation*}\n",
        " \\frac{\\partial u}{\\partial t}+c\\left(\\frac{\\partial u}{\\partial x}+\\frac{\\partial u}{\\partial y}\\right)=0,\n",
        "\\end{equation*}\n",
        "\n",
        "discretizing only the temporal term for the time being we have\n",
        "\n",
        "\\begin{equation*}\n",
        " \\frac{u(x, y, t+\\delta t)-u(x, y, t)}{\\delta t}+c\\left(\\frac{\\partial u}{\\partial x}+\\frac{\\partial u}{\\partial y}\\right)=0,\n",
        "\\end{equation*}\n",
        "\n",
        "which we can re-arrange as\n",
        "\n",
        "\\begin{equation*}\n",
        " u(x, y, t+\\delta t)=u(x, y, t)-\\delta tc\\left(\\frac{\\partial u}{\\partial x}+\\frac{\\partial u}{\\partial y}\\right),\n",
        "\\end{equation*}\n",
        "\n",
        "which is one of the most basic *explicit* time stepping schemes. Now if we approximated our spatial derivative with a backward difference approximation our scheme will become\n",
        "\n",
        "\\begin{equation*}\n",
        " u(x, y, t+\\delta t)=u(x, y, t)-\\delta tc\\left(\\frac{u(x, y, t)-u(x-h, y, t)}{h} +\\frac{u(x, y, t)-u(x, y-h, t)}{h}\\right).\n",
        "\\end{equation*}\n",
        "\n",
        "(Note that here we have assumed an equal grid spacing $h_x=h_y=h$). Then, provided we know the status of our function $u$ at $t=0$ we can use the above scheme to compute the evolution of $u$ forward in time.\n",
        "\n"
      ]
    },
    {
      "cell_type": "markdown",
      "metadata": {
        "id": "B2ZdJThobvh7"
      },
      "source": [
        "### Exercise: Implement the above time-stepping scheme in pure python\n",
        "\n",
        "First, we need to define our grid, an initial condition, a time step and integration time. These are set for you in the cell blow:"
      ]
    },
    {
      "cell_type": "code",
      "execution_count": 24,
      "metadata": {
        "colab": {
          "base_uri": "https://localhost:8080/",
          "height": 597
        },
        "id": "zhmUU3O7bvh7",
        "outputId": "1e348505-1c33-44ac-d864-7fd9eb5fb1e0"
      },
      "outputs": [
        {
          "output_type": "stream",
          "name": "stdout",
          "text": [
            "dx 0.025, dy 0.025\n"
          ]
        },
        {
          "output_type": "display_data",
          "data": {
            "text/plain": [
              "<Figure size 1100x700 with 1 Axes>"
            ],
            "image/png": "[encoded data removed]"
          },
          "metadata": {}
        }
      ],
      "source": [
        "from examples.cfd import plot_field, init_hat\n",
        "import numpy as np\n",
        "%matplotlib inline\n",
        "\n",
        "# Some variable declarations\n",
        "nx = 81 # grid points in x dim\n",
        "ny = 81 # grid points in y dim\n",
        "nt = 100 # Number of time steps\n",
        "c = 1.\n",
        "dx = 2. / (nx - 1)\n",
        "dy = 2. / (ny - 1)\n",
        "print(\"dx %s, dy %s\" % (dx, dy))\n",
        "sigma = .2\n",
        "dt = sigma * dx # Time step\n",
        "\n",
        "# Create field and assign initial conditions\n",
        "u = np.empty((nx, ny))\n",
        "init_hat(field=u, dx=dx, dy=dy, value=2.)\n",
        "\n",
        "# Plot initial condition\n",
        "plot_field(u)"
      ]
    },
    {
      "cell_type": "code",
      "execution_count": 1,
      "metadata": {
        "colab": {
          "base_uri": "https://localhost:8080/",
          "height": 216
        },
        "id": "W3oIGCFqbvh7",
        "outputId": "c7c9fb31-11d5-4c4a-e753-dc0e0e8e6732"
      },
      "outputs": [
        {
          "output_type": "error",
          "ename": "NameError",
          "evalue": "name 'init_hat' is not defined",
          "traceback": [
            "\u001b[0;31m---------------------------------------------------------------------------\u001b[0m",
            "\u001b[0;31mNameError\u001b[0m                                 Traceback (most recent call last)",
            "\u001b[0;32m<ipython-input-1-3de3196e032f>\u001b[0m in \u001b[0;36m<cell line: 0>\u001b[0;34m()\u001b[0m\n\u001b[1;32m      2\u001b[0m \u001b[0;34m\u001b[0m\u001b[0m\n\u001b[1;32m      3\u001b[0m \u001b[0;31m# Repeat initialisation, so we can re-run the cell\u001b[0m\u001b[0;34m\u001b[0m\u001b[0;34m\u001b[0m\u001b[0m\n\u001b[0;32m----> 4\u001b[0;31m \u001b[0minit_hat\u001b[0m\u001b[0;34m(\u001b[0m\u001b[0mfield\u001b[0m\u001b[0;34m=\u001b[0m\u001b[0mu\u001b[0m\u001b[0;34m,\u001b[0m \u001b[0mdx\u001b[0m\u001b[0;34m=\u001b[0m\u001b[0mdx\u001b[0m\u001b[0;34m,\u001b[0m \u001b[0mdy\u001b[0m\u001b[0;34m=\u001b[0m\u001b[0mdy\u001b[0m\u001b[0;34m,\u001b[0m \u001b[0mvalue\u001b[0m\u001b[0;34m=\u001b[0m\u001b[0;36m2.\u001b[0m\u001b[0;34m)\u001b[0m\u001b[0;34m\u001b[0m\u001b[0;34m\u001b[0m\u001b[0m\n\u001b[0m\u001b[1;32m      5\u001b[0m \u001b[0;34m\u001b[0m\u001b[0m\n\u001b[1;32m      6\u001b[0m \u001b[0;32mdef\u001b[0m \u001b[0mstencil_one\u001b[0m\u001b[0;34m(\u001b[0m\u001b[0mu\u001b[0m\u001b[0;34m,\u001b[0m \u001b[0mdx\u001b[0m\u001b[0;34m)\u001b[0m\u001b[0;34m:\u001b[0m\u001b[0;34m\u001b[0m\u001b[0;34m\u001b[0m\u001b[0m\n",
            "\u001b[0;31mNameError\u001b[0m: name 'init_hat' is not defined"
          ]
        }
      ],
      "source": [
        "# Implement your scheme here:\n",
        "\n",
        "# Repeat initialisation, so we can re-run the cell\n",
        "init_hat(field=u, dx=dx, dy=dy, value=2.)\n",
        "\n",
        "def stencil_one(u, dx):\n",
        "  return (u[1:, 1:] - u[1:, :-1]) / dy\n",
        "\n",
        "def stencil_two(u, dy):\n",
        "  return (u[1:, 1:] - u[:-1, 1:]) / dx\n",
        "\n",
        "for n in range(nt + 1):\n",
        "  u_n = u.copy() # last time state\n",
        "\n",
        "  u[1:, 1:] = u_n[1:, 1:] - (c * dt * (stencil_one(u, dx) - stencil_two(u, dy)))\n",
        "\n",
        "  # Apply boundary conditions.\n",
        "  u[0, :] = 1.  # left\n",
        "  u[-1, :] = 1. # right\n",
        "  u[:, 0] = 1.  # bottom\n",
        "  u[:, -1] = 1. # top\n",
        "\n",
        "plot_field(u)\n"
      ]
    },
    {
      "cell_type": "markdown",
      "metadata": {
        "id": "O7pGubKPbvh8"
      },
      "source": [
        "OK, now lets implement the same scheme in Devito. But first, lets learn a bit more about the symbolic DSL.\n",
        "\n",
        "The functions we created above all act as `sympy.Function` objects, which means that we can form symbolic derivative expressions from them. Devito provides a set of shorthand expressions (implemented as Python properties) that allow us to generate finite differences in symbolic form. For example, the property `f.dx` denotes $\\frac{\\partial}{\\partial x} f(x, y)$ - only that Devito has already discretised it with a finite difference expression. There are also a set of shorthand expressions for left (backward) and right (forward) derivatives:\n",
        "\n",
        "| Derivative | Shorthand | Discretised | Stencil |\n",
        "| ---------- |:---------:|:-----------:|:-------:|\n",
        "| $\\frac{\\partial}{\\partial x}f(x, y)$ (right) | `f.dxr` | $\\frac{f(x+h_x,y)}{h_x} - \\frac{f(x,y)}{h_x}$ | <img src=\"https://github.com/nocturnal-luke/Geophysical-inversion-undergraduate/blob/main/lectures/L5/figures/stencil_forward.png?raw=1\" style=\"width: 180px;\"/> |\n",
        "| $\\frac{\\partial}{\\partial x}f(x, y)$ (left) | `f.dxl` | $\\frac{f(x,y)}{h_x} - \\frac{f(x-h_x,y)}{h_x}$ | <img src=\"https://github.com/nocturnal-luke/Geophysical-inversion-undergraduate/blob/main/lectures/L5/figures/stencil_backward.png?raw=1\" style=\"width: 180px;\"/> |\n",
        "\n",
        "A similar set of expressions exist for each spatial dimension defined on our grid, for example `f.dy` and `f.dyl`."
      ]
    },
    {
      "cell_type": "code",
      "execution_count": null,
      "metadata": {
        "id": "B2LuRUQKbvh8",
        "outputId": "9a59bc0a-c195-4956-8f0d-a9387d119603"
      },
      "outputs": [
        {
          "data": {
            "text/latex": [
              "$\\displaystyle \\frac{\\partial}{\\partial x} f{\\left(x,y \\right)}$"
            ],
            "text/plain": [
              "Derivative(f(x, y), x)"
            ]
          },
          "execution_count": 10,
          "metadata": {},
          "output_type": "execute_result"
        }
      ],
      "source": [
        "f.dxr # Forward difference/right derivative"
      ]
    },
    {
      "cell_type": "code",
      "execution_count": null,
      "metadata": {
        "id": "yatZ5niLbvh8",
        "outputId": "59a4ea58-b732-4f1f-ae38-2f75e07092fd"
      },
      "outputs": [
        {
          "data": {
            "text/latex": [
              "$\\displaystyle \\frac{\\partial}{\\partial x} f{\\left(x,y \\right)}$"
            ],
            "text/plain": [
              "Derivative(f(x, y), x)"
            ]
          },
          "execution_count": 11,
          "metadata": {},
          "output_type": "execute_result"
        }
      ],
      "source": [
        "f.dxl # Backward difference/left derivative"
      ]
    },
    {
      "cell_type": "markdown",
      "metadata": {
        "id": "Wwp1BHQPbvh8"
      },
      "source": [
        "And to see the actual stencils they represent, we enduce the `evaluate` method:"
      ]
    },
    {
      "cell_type": "code",
      "execution_count": null,
      "metadata": {
        "id": "TH0klQGbbvh8",
        "outputId": "7f3b26a2-82e3-41bd-cc81-2d0a94b9655f"
      },
      "outputs": [
        {
          "data": {
            "text/latex": [
              "$\\displaystyle - \\frac{f{\\left(x,y \\right)}}{h_{x}} + \\frac{f{\\left(x + h_{x},y \\right)}}{h_{x}}$"
            ],
            "text/plain": [
              "-f(x, y)/h_x + f(x + h_x, y)/h_x"
            ]
          },
          "execution_count": 12,
          "metadata": {},
          "output_type": "execute_result"
        }
      ],
      "source": [
        "f.dxr.evaluate"
      ]
    },
    {
      "cell_type": "code",
      "execution_count": null,
      "metadata": {
        "id": "8l5VifuEbvh9",
        "outputId": "89e2790e-d044-4e82-9b12-ee8c69bf4ee7"
      },
      "outputs": [
        {
          "data": {
            "text/latex": [
              "$\\displaystyle \\frac{f{\\left(x,y \\right)}}{h_{x}} - \\frac{f{\\left(x - h_{x},y \\right)}}{h_{x}}$"
            ],
            "text/plain": [
              "f(x, y)/h_x - f(x - h_x, y)/h_x"
            ]
          },
          "execution_count": 13,
          "metadata": {},
          "output_type": "execute_result"
        }
      ],
      "source": [
        "f.dxl.evaluate"
      ]
    },
    {
      "cell_type": "markdown",
      "metadata": {
        "id": "FC2IdOVsbvh9"
      },
      "source": [
        "One can also take derivatives in time of `TimeFunction` objects. For example, to take the first derivative in time of `g` you can simply write:"
      ]
    },
    {
      "cell_type": "code",
      "execution_count": null,
      "metadata": {
        "id": "MVEGPqFGbvh9",
        "outputId": "ca60da8f-5bde-4b3d-ec8e-22a5c33427f1"
      },
      "outputs": [
        {
          "data": {
            "text/latex": [
              "$\\displaystyle \\frac{\\partial}{\\partial t} g{\\left(t,x,y \\right)}$"
            ],
            "text/plain": [
              "Derivative(g(t, x, y), t)"
            ]
          },
          "execution_count": 14,
          "metadata": {},
          "output_type": "execute_result"
        }
      ],
      "source": [
        "g.dt"
      ]
    },
    {
      "cell_type": "markdown",
      "metadata": {
        "id": "rfiDu-qFbvh9"
      },
      "source": [
        "We may also want to take a look at the stencil Devito will generate based on the chosen discretisation:"
      ]
    },
    {
      "cell_type": "code",
      "execution_count": null,
      "metadata": {
        "id": "sZPLVC7Ebvh9",
        "outputId": "aa122d1f-41b4-450d-92a4-3e30e372cc72"
      },
      "outputs": [
        {
          "data": {
            "text/latex": [
              "$\\displaystyle - \\frac{g{\\left(t,x,y \\right)}}{dt} + \\frac{g{\\left(t + dt,x,y \\right)}}{dt}$"
            ],
            "text/plain": [
              "-g(t, x, y)/dt + g(t + dt, x, y)/dt"
            ]
          },
          "execution_count": 15,
          "metadata": {},
          "output_type": "execute_result"
        }
      ],
      "source": [
        "g.dt.evaluate"
      ]
    },
    {
      "cell_type": "markdown",
      "metadata": {
        "id": "hKmDtBm-bvh9"
      },
      "source": [
        "There also exist convenient shortcuts to express the forward and backward stencil points, `g(t+dt, x, y)` and `g(t-dt, x, y)`."
      ]
    },
    {
      "cell_type": "code",
      "execution_count": null,
      "metadata": {
        "id": "bFhzPkLBbvh9",
        "outputId": "ba87e1dc-315a-4134-b275-638f04d544ea"
      },
      "outputs": [
        {
          "data": {
            "text/latex": [
              "$\\displaystyle g{\\left(t + dt,x,y \\right)}$"
            ],
            "text/plain": [
              "g(t + dt, x, y)"
            ]
          },
          "execution_count": 16,
          "metadata": {},
          "output_type": "execute_result"
        }
      ],
      "source": [
        "g.forward"
      ]
    },
    {
      "cell_type": "code",
      "execution_count": null,
      "metadata": {
        "id": "mJ_hQmwWbvh9",
        "outputId": "f9aa8384-9f06-4c7c-92b3-1672159f963f"
      },
      "outputs": [
        {
          "data": {
            "text/latex": [
              "$\\displaystyle g{\\left(t - dt,x,y \\right)}$"
            ],
            "text/plain": [
              "g(t - dt, x, y)"
            ]
          },
          "execution_count": 17,
          "metadata": {},
          "output_type": "execute_result"
        }
      ],
      "source": [
        "g.backward"
      ]
    },
    {
      "cell_type": "markdown",
      "metadata": {
        "id": "bqcdKXeQbvh9"
      },
      "source": [
        "And of course, there's nothing to stop us taking derivatives on these objects:"
      ]
    },
    {
      "cell_type": "code",
      "execution_count": null,
      "metadata": {
        "id": "n37-nGnVbvh-",
        "outputId": "d6650535-0e00-42cb-85a7-64f73861114a"
      },
      "outputs": [
        {
          "data": {
            "text/latex": [
              "$\\displaystyle - \\frac{g{\\left(t + dt,x,y \\right)}}{dt} + \\frac{g{\\left(t + 2 dt,x,y \\right)}}{dt}$"
            ],
            "text/plain": [
              "-g(t + dt, x, y)/dt + g(t + 2*dt, x, y)/dt"
            ]
          },
          "execution_count": 18,
          "metadata": {},
          "output_type": "execute_result"
        }
      ],
      "source": [
        "g.forward.dt.evaluate"
      ]
    },
    {
      "cell_type": "code",
      "execution_count": null,
      "metadata": {
        "id": "b9IZXMJKbvh-",
        "outputId": "dd9dcb1e-1e41-40dc-8aaa-0a13eaaeab48"
      },
      "outputs": [
        {
          "data": {
            "text/latex": [
              "$\\displaystyle - \\frac{g{\\left(t + dt,x,y \\right)}}{h_{y}} + \\frac{g{\\left(t + dt,x,y + h_{y} \\right)}}{h_{y}}$"
            ],
            "text/plain": [
              "-g(t + dt, x, y)/h_y + g(t + dt, x, y + h_y)/h_y"
            ]
          },
          "execution_count": 19,
          "metadata": {},
          "output_type": "execute_result"
        }
      ],
      "source": [
        "g.forward.dy.evaluate"
      ]
    },
    {
      "cell_type": "markdown",
      "metadata": {
        "id": "P1wD7Kh1bvh-"
      },
      "source": [
        "Lets now implement the linear convection operator from above in Devito:"
      ]
    },
    {
      "cell_type": "code",
      "execution_count": null,
      "metadata": {
        "id": "QqSsm0Avbvh-",
        "outputId": "e1c9ec7a-cb58-4c98-92c2-42adaa338dce"
      },
      "outputs": [
        {
          "data": {
            "image/png": "[encoded data removed]",
            "text/plain": [
              "<Figure size 1100x700 with 1 Axes>"
            ]
          },
          "metadata": {
            "needs_background": "light"
          },
          "output_type": "display_data"
        }
      ],
      "source": [
        "from examples.cfd import init_smooth, plot_field\n",
        "\n",
        "nt = 100  # Number of timesteps\n",
        "dt = 0.2 * 2. / 80  # Timestep size (sigma=0.2)\n",
        "c = 1  # Value for c\n",
        "\n",
        "# Then we create a grid and our function\n",
        "grid = Grid(shape=(81, 81), extent=(2., 2.))\n",
        "u = TimeFunction(name='u', grid=grid)\n",
        "\n",
        "# We can now set the initial condition and plot it\n",
        "init_hat(field=u.data[0,:], dx=grid.spacing[0], dy=grid.spacing[1], value=2.)\n",
        "\n",
        "plot_field(u.data[0])"
      ]
    },
    {
      "cell_type": "markdown",
      "metadata": {
        "id": "1e7WxqIkbvh_"
      },
      "source": [
        "Next, we wish to discretise our governing equation so that a functional `Operator` can be created from it. We begin by simply writing out the equation as a symbolic expression, while using shorthand expressions for the derivatives provided by the `Function` object. This will create a symbolic object of the dicretised equation.\n",
        "\n",
        "Using the Devito shorthand notation, we can express the governing equations as:"
      ]
    },
    {
      "cell_type": "code",
      "execution_count": null,
      "metadata": {
        "id": "WE-FBWLkbvh_",
        "outputId": "75fcfc85-6e34-42e7-dc29-5df374b6a7ea"
      },
      "outputs": [
        {
          "data": {
            "text/latex": [
              "$\\displaystyle \\frac{\\partial}{\\partial x} u{\\left(t,x,y \\right)} + \\frac{\\partial}{\\partial y} u{\\left(t,x,y \\right)} + \\frac{\\partial}{\\partial t} u{\\left(t,x,y \\right)} = 0$"
            ],
            "text/plain": [
              "Eq(Derivative(u(t, x, y), x) + Derivative(u(t, x, y), y) + Derivative(u(t, x, y), t), 0)"
            ]
          },
          "execution_count": 21,
          "metadata": {},
          "output_type": "execute_result"
        }
      ],
      "source": [
        "eq = Eq(u.dt + c * u.dxl + c * u.dyl)\n",
        "eq"
      ]
    },
    {
      "cell_type": "markdown",
      "metadata": {
        "id": "zinslWXnbvh_"
      },
      "source": [
        "We now need to rearrange our equation so that the term $u(t+dt, x, y)$ is on the left-hand side, since it represents the next point in time for our state variable $u$. Devito provides a utility called `solve`, built on top of SymPy's `solve`, to rearrange our equation so that it represents a valid state update for $u$. Here, we use `solve` to create a valid stencil for our update to `u(t+dt, x, y)`:"
      ]
    },
    {
      "cell_type": "code",
      "execution_count": null,
      "metadata": {
        "id": "v2j8daqWbviG",
        "outputId": "e6156e9a-ff65-49da-9156-6c3ee191e4c6"
      },
      "outputs": [
        {
          "data": {
            "text/latex": [
              "$\\displaystyle u{\\left(t + dt,x,y \\right)} = dt \\left(- \\frac{\\partial}{\\partial x} u{\\left(t,x,y \\right)} - \\frac{\\partial}{\\partial y} u{\\left(t,x,y \\right)} + \\frac{u{\\left(t,x,y \\right)}}{dt}\\right)$"
            ],
            "text/plain": [
              "Eq(u(t + dt, x, y), dt*(-Derivative(u(t, x, y), x) - Derivative(u(t, x, y), y) + u(t, x, y)/dt))"
            ]
          },
          "execution_count": 22,
          "metadata": {},
          "output_type": "execute_result"
        }
      ],
      "source": [
        "stencil = solve(eq, u.forward)\n",
        "update = Eq(u.forward, stencil)\n",
        "update"
      ]
    },
    {
      "cell_type": "markdown",
      "metadata": {
        "id": "U9V2mRBWbviG"
      },
      "source": [
        "We can check our `update` scheme is the same as our pen and paper scheme by `evaluate`ing it:"
      ]
    },
    {
      "cell_type": "code",
      "execution_count": null,
      "metadata": {
        "id": "LlV1xZQCbviH",
        "outputId": "2801aa7d-dd57-48b2-cc9d-15a60237f986"
      },
      "outputs": [
        {
          "data": {
            "text/latex": [
              "$\\displaystyle u{\\left(t + dt,x,y \\right)} = dt \\left(- (\\frac{u{\\left(t,x,y \\right)}}{h_{x}} - \\frac{u{\\left(t,x - h_{x},y \\right)}}{h_{x}}) - \\left(\\frac{u{\\left(t,x,y \\right)}}{h_{y}} - \\frac{u{\\left(t,x,y - h_{y} \\right)}}{h_{y}}\\right) + \\frac{u{\\left(t,x,y \\right)}}{dt}\\right)$"
            ],
            "text/plain": [
              "Eq(u(t + dt, x, y), dt*(-(u(t, x, y)/h_x - u(t, x - h_x, y)/h_x) - (u(t, x, y)/h_y - u(t, x, y - h_y)/h_y) + u(t, x, y)/dt))"
            ]
          },
          "execution_count": 23,
          "metadata": {},
          "output_type": "execute_result"
        }
      ],
      "source": [
        "update.evaluate"
      ]
    },
    {
      "cell_type": "markdown",
      "metadata": {
        "id": "OPkR2KvebviH"
      },
      "source": [
        "The right-hand side of the 'update' equation should be a stencil of the shape\n",
        "<img src=\"https://github.com/nocturnal-luke/Geophysical-inversion-undergraduate/blob/main/lectures/L5/figures/stencil_convection.png?raw=1\" style=\"width: 160px;\"/>"
      ]
    },
    {
      "cell_type": "markdown",
      "metadata": {
        "id": "ZjJuJ9tybviH"
      },
      "source": [
        "Next we define our boundary conditions:"
      ]
    },
    {
      "cell_type": "code",
      "execution_count": null,
      "metadata": {
        "id": "TnxTiM1dbviH"
      },
      "outputs": [],
      "source": [
        "x, y = grid.dimensions\n",
        "t = grid.stepping_dim\n",
        "bc_left = Eq(u[t + 1, 0, y], 1.)\n",
        "bc_right = Eq(u[t + 1, nx-1, y], 1.)\n",
        "bc_top = Eq(u[t + 1, x, ny-1], 1.)\n",
        "bc_bottom = Eq(u[t + 1, x, 0], 1.)"
      ]
    },
    {
      "cell_type": "markdown",
      "metadata": {
        "id": "SdGUN6b8bviH"
      },
      "source": [
        "Once we have created this 'update' expression and the appropriate boundary conditions, we can create a Devito `Operator`. This `Operator` will basically behave like a Python function that we can call to apply the created stencil over our associated data, as long as we provide all necessary unknowns. In this case we need to provide the number of timesteps to compute via the keyword `time` and the timestep size via `dt` (both have been defined above):"
      ]
    },
    {
      "cell_type": "code",
      "execution_count": null,
      "metadata": {
        "id": "RPx--ipMbviH",
        "outputId": "d52a3c03-c008-4a79-9281-dd60e26aaac9"
      },
      "outputs": [
        {
          "name": "stderr",
          "output_type": "stream",
          "text": [
            "Operator `Kernel` ran in 0.01 s\n",
            "/data/devito/examples/cfd/tools.py:38: MatplotlibDeprecationWarning: Calling gca() with keyword arguments was deprecated in Matplotlib 3.4. Starting two minor releases later, gca() will take no keyword arguments. The gca() function should only be used to get the current axes, or if no axes exist, create new axes with default keyword arguments. To create a new axes with non-default arguments, use plt.axes() or plt.subplot().\n",
            "  ax = fig.gca(projection='3d')\n"
          ]
        },
        {
          "data": {
            "image/png": "[encoded data removed]",
            "text/plain": [
              "<Figure size 1100x700 with 1 Axes>"
            ]
          },
          "metadata": {
            "needs_background": "light"
          },
          "output_type": "display_data"
        }
      ],
      "source": [
        "op = Operator([update, bc_left, bc_right, bc_top, bc_bottom])\n",
        "op(time=nt+1, dt=dt)\n",
        "\n",
        "plot_field(u.data[0])"
      ]
    },
    {
      "cell_type": "markdown",
      "metadata": {
        "id": "hl70yLBlbviI"
      },
      "source": [
        "Note that the real power of Devito is hidden within `Operator`, it will automatically generate and compile the optimized C code. We can look at this code (noting that this is not a requirement of executing it) via:"
      ]
    },
    {
      "cell_type": "code",
      "execution_count": null,
      "metadata": {
        "id": "o5sCSqVibviI",
        "outputId": "2401483c-acdb-4abf-8725-a0a3e18b174a"
      },
      "outputs": [
        {
          "name": "stdout",
          "output_type": "stream",
          "text": [
            "#define _POSIX_C_SOURCE 200809L\n",
            "#define START_TIMER(S) struct timeval start_ ## S , end_ ## S ; gettimeofday(&start_ ## S , NULL);\n",
            "#define STOP_TIMER(S,T) gettimeofday(&end_ ## S, NULL); T->S += (double)(end_ ## S .tv_sec-start_ ## S.tv_sec)+(double)(end_ ## S .tv_usec-start_ ## S .tv_usec)/1000000;\n",
            "\n",
            "#include \"stdlib.h\"\n",
            "#include \"math.h\"\n",
            "#include \"sys/time.h\"\n",
            "#include \"xmmintrin.h\"\n",
            "#include \"pmmintrin.h\"\n",
            "\n",
            "struct dataobj\n",
            "{\n",
            "  void *restrict data;\n",
            "  int * size;\n",
            "  int * npsize;\n",
            "  int * dsize;\n",
            "  int * hsize;\n",
            "  int * hofs;\n",
            "  int * oofs;\n",
            "} ;\n",
            "\n",
            "struct profiler\n",
            "{\n",
            "  double section0;\n",
            "  double section1;\n",
            "  double section2;\n",
            "} ;\n",
            "\n",
            "\n",
            "int Kernel(const float dt, const float h_x, const float h_y, struct dataobj *restrict u_vec, const int time_M, const int time_m, const int x_M, const int x_m, const int y_M, const int y_m, struct profiler * timers)\n",
            "{\n",
            "  float (*restrict u)[u_vec->size[1]][u_vec->size[2]] __attribute__ ((aligned (64))) = (float (*)[u_vec->size[1]][u_vec->size[2]]) u_vec->data;\n",
            "\n",
            "  /* Flush denormal numbers to zero in hardware */\n",
            "  _MM_SET_DENORMALS_ZERO_MODE(_MM_DENORMALS_ZERO_ON);\n",
            "  _MM_SET_FLUSH_ZERO_MODE(_MM_FLUSH_ZERO_ON);\n",
            "\n",
            "  float r0 = 1.0F/h_x;\n",
            "  float r1 = 1.0F/h_y;\n",
            "  float r2 = 1.0F/dt;\n",
            "  for (int time = time_m, t0 = (time)%(2), t1 = (time + 1)%(2); time <= time_M; time += 1, t0 = (time)%(2), t1 = (time + 1)%(2))\n",
            "  {\n",
            "    /* Begin section0 */\n",
            "    START_TIMER(section0)\n",
            "    for (int x = x_m; x <= x_M; x += 1)\n",
            "    {\n",
            "      #pragma omp simd aligned(u:32)\n",
            "      for (int y = y_m; y <= y_M; y += 1)\n",
            "      {\n",
            "        u[t1][x + 1][y + 1] = dt*(-r0*(-u[t0][x][y + 1]) - r0*u[t0][x + 1][y + 1] - r1*(-u[t0][x + 1][y]) - r1*u[t0][x + 1][y + 1] + r2*u[t0][x + 1][y + 1]);\n",
            "      }\n",
            "    }\n",
            "    STOP_TIMER(section0,timers)\n",
            "    /* End section0 */\n",
            "    /* Begin section1 */\n",
            "    START_TIMER(section1)\n",
            "    for (int y = y_m; y <= y_M; y += 1)\n",
            "    {\n",
            "      u[t1][1][y + 1] = 1.00000000000000F;\n",
            "      u[t1][81][y + 1] = 1.00000000000000F;\n",
            "    }\n",
            "    STOP_TIMER(section1,timers)\n",
            "    /* End section1 */\n",
            "    /* Begin section2 */\n",
            "    START_TIMER(section2)\n",
            "    for (int x = x_m; x <= x_M; x += 1)\n",
            "    {\n",
            "      u[t1][x + 1][81] = 1.00000000000000F;\n",
            "      u[t1][x + 1][1] = 1.00000000000000F;\n",
            "    }\n",
            "    STOP_TIMER(section2,timers)\n",
            "    /* End section2 */\n",
            "  }\n",
            "\n",
            "  return 0;\n",
            "}\n",
            "\n"
          ]
        }
      ],
      "source": [
        "print(op.ccode)"
      ]
    },
    {
      "cell_type": "markdown",
      "metadata": {
        "id": "Tvda7hbGbviI"
      },
      "source": [
        "#### Second derivatives and high-order stencils\n",
        "\n",
        "In the above example only a combination of first derivatives was present in the governing equation. However, second (or higher) order derivatives are often present in scientific problems of interest, notably any PDE modeling diffusion. To generate second order derivatives we must give the `devito.Function` object another piece of information: the desired discretisation of the stencil(s).\n",
        "\n",
        "First, lets define a simple second derivative in `x`, for which we need to give $u$ a `space_order` of (at least) `2`. The shorthand for this second derivative is `u.dx2`."
      ]
    },
    {
      "cell_type": "code",
      "execution_count": null,
      "metadata": {
        "id": "C79839MvbviI",
        "outputId": "19691151-b3e0-4770-8968-1de7707e7190"
      },
      "outputs": [
        {
          "data": {
            "text/latex": [
              "$\\displaystyle \\frac{\\partial^{2}}{\\partial x^{2}} u{\\left(t,x,y \\right)}$"
            ],
            "text/plain": [
              "Derivative(u(t, x, y), (x, 2))"
            ]
          },
          "execution_count": 27,
          "metadata": {},
          "output_type": "execute_result"
        }
      ],
      "source": [
        "u = TimeFunction(name='u', grid=grid, space_order=2)\n",
        "u.dx2"
      ]
    },
    {
      "cell_type": "code",
      "execution_count": null,
      "metadata": {
        "id": "_7_glMPhbviI",
        "outputId": "f523f583-ab89-415d-bc1f-3f9244dd70cc"
      },
      "outputs": [
        {
          "data": {
            "text/latex": [
              "$\\displaystyle - \\frac{2.0 u{\\left(t,x,y \\right)}}{h_{x}^{2}} + \\frac{u{\\left(t,x - h_{x},y \\right)}}{h_{x}^{2}} + \\frac{u{\\left(t,x + h_{x},y \\right)}}{h_{x}^{2}}$"
            ],
            "text/plain": [
              "-2.0*u(t, x, y)/h_x**2 + u(t, x - h_x, y)/h_x**2 + u(t, x + h_x, y)/h_x**2"
            ]
          },
          "execution_count": 28,
          "metadata": {},
          "output_type": "execute_result"
        }
      ],
      "source": [
        "u.dx2.evaluate"
      ]
    },
    {
      "cell_type": "markdown",
      "metadata": {
        "id": "KeI18KVDbviI"
      },
      "source": [
        "We can increase the discretisation arbitrarily if we wish to specify higher order FD stencils:"
      ]
    },
    {
      "cell_type": "code",
      "execution_count": null,
      "metadata": {
        "id": "uxcKosHYbviI",
        "outputId": "0434b8da-68ad-4e4d-a488-ae27b950c2ea"
      },
      "outputs": [
        {
          "data": {
            "text/latex": [
              "$\\displaystyle \\frac{\\partial^{2}}{\\partial x^{2}} u{\\left(t,x,y \\right)}$"
            ],
            "text/plain": [
              "Derivative(u(t, x, y), (x, 2))"
            ]
          },
          "execution_count": 29,
          "metadata": {},
          "output_type": "execute_result"
        }
      ],
      "source": [
        "u = TimeFunction(name='u', grid=grid, space_order=4)\n",
        "u.dx2"
      ]
    },
    {
      "cell_type": "code",
      "execution_count": null,
      "metadata": {
        "id": "yDS6zYlEbviJ",
        "outputId": "97d08c1a-25cf-461d-83c0-68f6c63b30f1"
      },
      "outputs": [
        {
          "data": {
            "text/latex": [
              "$\\displaystyle - \\frac{2.5 u{\\left(t,x,y \\right)}}{h_{x}^{2}} - \\frac{0.0833333333 u{\\left(t,x - 2 h_{x},y \\right)}}{h_{x}^{2}} + \\frac{1.33333333 u{\\left(t,x - h_{x},y \\right)}}{h_{x}^{2}} + \\frac{1.33333333 u{\\left(t,x + h_{x},y \\right)}}{h_{x}^{2}} - \\frac{0.0833333333 u{\\left(t,x + 2 h_{x},y \\right)}}{h_{x}^{2}}$"
            ],
            "text/plain": [
              "-2.5*u(t, x, y)/h_x**2 - 0.0833333333*u(t, x - 2*h_x, y)/h_x**2 + 1.33333333*u(t, x - h_x, y)/h_x**2 + 1.33333333*u(t, x + h_x, y)/h_x**2 - 0.0833333333*u(t, x + 2*h_x, y)/h_x**2"
            ]
          },
          "execution_count": 30,
          "metadata": {},
          "output_type": "execute_result"
        }
      ],
      "source": [
        "u.dx2.evaluate"
      ]
    },
    {
      "cell_type": "markdown",
      "metadata": {
        "id": "2dJIHE_YbviJ"
      },
      "source": [
        "To implement the diffusion or wave equations, we must take the Laplacian $\\nabla^2 u$, which is the sum of the second derivatives in all spatial dimensions. For this, Devito also provides a shorthand expression, which means we do not have to hard-code the problem dimension (2D or 3D) in the code. To change the problem dimension we can create another `Grid` object and use this to re-define our `Function`'s:"
      ]
    },
    {
      "cell_type": "code",
      "execution_count": null,
      "metadata": {
        "id": "Z2G0R6mHbviJ",
        "outputId": "920fcf17-6e1d-42be-b308-3915be37b2eb"
      },
      "outputs": [
        {
          "data": {
            "text/latex": [
              "$\\displaystyle u{\\left(t,x,y,z \\right)}$"
            ],
            "text/plain": [
              "u(t, x, y, z)"
            ]
          },
          "execution_count": 31,
          "metadata": {},
          "output_type": "execute_result"
        }
      ],
      "source": [
        "grid_3d = Grid(shape=(5, 6, 7), extent=(1., 1., 1.))\n",
        "\n",
        "u = TimeFunction(name='u', grid=grid_3d, space_order=2)\n",
        "u"
      ]
    },
    {
      "cell_type": "markdown",
      "metadata": {
        "id": "tNWQyp_2bviJ"
      },
      "source": [
        "We can re-define our function `u` with a different `space_order` argument to change the discretisation order of the stencil expression created. For example, we can derive an expression of the 12th-order Laplacian $\\nabla^2 u$:"
      ]
    },
    {
      "cell_type": "code",
      "execution_count": null,
      "metadata": {
        "id": "zvt-VGdgbviJ",
        "outputId": "594b2f1d-ea29-4d81-bf90-631f1d547a13"
      },
      "outputs": [
        {
          "data": {
            "text/latex": [
              "$\\displaystyle \\frac{\\partial^{2}}{\\partial x^{2}} u{\\left(t,x,y,z \\right)} + \\frac{\\partial^{2}}{\\partial y^{2}} u{\\left(t,x,y,z \\right)} + \\frac{\\partial^{2}}{\\partial z^{2}} u{\\left(t,x,y,z \\right)}$"
            ],
            "text/plain": [
              "Derivative(u(t, x, y, z), (x, 2)) + Derivative(u(t, x, y, z), (y, 2)) + Derivative(u(t, x, y, z), (z, 2))"
            ]
          },
          "execution_count": 32,
          "metadata": {},
          "output_type": "execute_result"
        }
      ],
      "source": [
        "u = TimeFunction(name='u', grid=grid_3d, space_order=12)\n",
        "u.laplace"
      ]
    },
    {
      "cell_type": "markdown",
      "metadata": {
        "id": "ZOXh8pDEbviK"
      },
      "source": [
        "The same expression could also have been generated explicitly via:"
      ]
    },
    {
      "cell_type": "code",
      "execution_count": null,
      "metadata": {
        "id": "ryelAyWobviK",
        "outputId": "81b2804e-d113-4892-b743-4a208fe69406"
      },
      "outputs": [
        {
          "data": {
            "text/latex": [
              "$\\displaystyle \\frac{\\partial^{2}}{\\partial x^{2}} u{\\left(t,x,y,z \\right)} + \\frac{\\partial^{2}}{\\partial y^{2}} u{\\left(t,x,y,z \\right)} + \\frac{\\partial^{2}}{\\partial z^{2}} u{\\left(t,x,y,z \\right)}$"
            ],
            "text/plain": [
              "Derivative(u(t, x, y, z), (x, 2)) + Derivative(u(t, x, y, z), (y, 2)) + Derivative(u(t, x, y, z), (z, 2))"
            ]
          },
          "execution_count": 33,
          "metadata": {},
          "output_type": "execute_result"
        }
      ],
      "source": [
        "u.dx2 + u.dy2 + u.dz2"
      ]
    },
    {
      "cell_type": "markdown",
      "metadata": {
        "id": "WfT16E3PbviK"
      },
      "source": [
        "#### Derivatives of composite expressions\n",
        "\n",
        "Derivatives of any arbitrary expression can easily be generated:"
      ]
    },
    {
      "cell_type": "code",
      "execution_count": null,
      "metadata": {
        "id": "alHmWKeAbviK"
      },
      "outputs": [],
      "source": [
        "u = TimeFunction(name='u', grid=grid, space_order=2)\n",
        "v = TimeFunction(name='v', grid=grid, space_order=2, time_order=2)"
      ]
    },
    {
      "cell_type": "code",
      "execution_count": null,
      "metadata": {
        "id": "TMr4OgiqbviK",
        "outputId": "23821031-4fe9-4dc2-d205-2a948c0019ee"
      },
      "outputs": [
        {
          "data": {
            "text/latex": [
              "$\\displaystyle \\frac{\\partial^{2}}{\\partial x^{2}} \\left(\\frac{\\partial^{2}}{\\partial x^{2}} u{\\left(t,x,y \\right)} + \\frac{\\partial^{2}}{\\partial y^{2}} u{\\left(t,x,y \\right)} + \\frac{\\partial^{2}}{\\partial t^{2}} v{\\left(t,x,y \\right)}\\right)$"
            ],
            "text/plain": [
              "Derivative(Derivative(u(t, x, y), (x, 2)) + Derivative(u(t, x, y), (y, 2)) + Derivative(v(t, x, y), (t, 2)), (x, 2))"
            ]
          },
          "execution_count": 35,
          "metadata": {},
          "output_type": "execute_result"
        }
      ],
      "source": [
        "(v.dt2 + u.laplace).dx2"
      ]
    },
    {
      "cell_type": "markdown",
      "metadata": {
        "id": "FiPUQwZkbviK"
      },
      "source": [
        "Which can, depending on the chosen discretisation, lead to fairly complex stencils:"
      ]
    },
    {
      "cell_type": "code",
      "execution_count": null,
      "metadata": {
        "id": "zb9h3-YGbviK",
        "outputId": "b15a2b23-952b-4108-a9ae-d4eee7f31bf0"
      },
      "outputs": [
        {
          "data": {
            "text/latex": [
              "$\\displaystyle - \\frac{2.0 \\left(\\left(- \\frac{2.0 v{\\left(t,x,y \\right)}}{dt^{2}} + \\frac{v{\\left(t - dt,x,y \\right)}}{dt^{2}} + \\frac{v{\\left(t + dt,x,y \\right)}}{dt^{2}}\\right) + \\left(- \\frac{2.0 u{\\left(t,x,y \\right)}}{h_{x}^{2}} + \\frac{u{\\left(t,x - h_{x},y \\right)}}{h_{x}^{2}} + \\frac{u{\\left(t,x + h_{x},y \\right)}}{h_{x}^{2}}\\right) + \\left(- \\frac{2.0 u{\\left(t,x,y \\right)}}{h_{y}^{2}} + \\frac{u{\\left(t,x,y - h_{y} \\right)}}{h_{y}^{2}} + \\frac{u{\\left(t,x,y + h_{y} \\right)}}{h_{y}^{2}}\\right)\\right)}{h_{x}^{2}} + \\frac{\\left(- \\frac{2.0 v{\\left(t,x - h_{x},y \\right)}}{dt^{2}} + \\frac{v{\\left(t - dt,x - h_{x},y \\right)}}{dt^{2}} + \\frac{v{\\left(t + dt,x - h_{x},y \\right)}}{dt^{2}}\\right) + \\left(\\frac{u{\\left(t,x,y \\right)}}{h_{x}^{2}} + \\frac{u{\\left(t,x - 2 h_{x},y \\right)}}{h_{x}^{2}} - \\frac{2.0 u{\\left(t,x - h_{x},y \\right)}}{h_{x}^{2}}\\right) + \\left(- \\frac{2.0 u{\\left(t,x - h_{x},y \\right)}}{h_{y}^{2}} + \\frac{u{\\left(t,x - h_{x},y - h_{y} \\right)}}{h_{y}^{2}} + \\frac{u{\\left(t,x - h_{x},y + h_{y} \\right)}}{h_{y}^{2}}\\right)}{h_{x}^{2}} + \\frac{\\left(- \\frac{2.0 v{\\left(t,x + h_{x},y \\right)}}{dt^{2}} + \\frac{v{\\left(t - dt,x + h_{x},y \\right)}}{dt^{2}} + \\frac{v{\\left(t + dt,x + h_{x},y \\right)}}{dt^{2}}\\right) + \\left(\\frac{u{\\left(t,x,y \\right)}}{h_{x}^{2}} - \\frac{2.0 u{\\left(t,x + h_{x},y \\right)}}{h_{x}^{2}} + \\frac{u{\\left(t,x + 2 h_{x},y \\right)}}{h_{x}^{2}}\\right) + \\left(- \\frac{2.0 u{\\left(t,x + h_{x},y \\right)}}{h_{y}^{2}} + \\frac{u{\\left(t,x + h_{x},y - h_{y} \\right)}}{h_{y}^{2}} + \\frac{u{\\left(t,x + h_{x},y + h_{y} \\right)}}{h_{y}^{2}}\\right)}{h_{x}^{2}}$"
            ],
            "text/plain": [
              "-2.0*(-2.0*v(t, x, y)/dt**2 + v(t - dt, x, y)/dt**2 + v(t + dt, x, y)/dt**2 - 2.0*u(t, x, y)/h_x**2 + u(t, x - h_x, y)/h_x**2 + u(t, x + h_x, y)/h_x**2 - 2.0*u(t, x, y)/h_y**2 + u(t, x, y - h_y)/h_y**2 + u(t, x, y + h_y)/h_y**2)/h_x**2 + (-2.0*v(t, x - h_x, y)/dt**2 + v(t - dt, x - h_x, y)/dt**2 + v(t + dt, x - h_x, y)/dt**2 + u(t, x, y)/h_x**2 + u(t, x - 2*h_x, y)/h_x**2 - 2.0*u(t, x - h_x, y)/h_x**2 - 2.0*u(t, x - h_x, y)/h_y**2 + u(t, x - h_x, y - h_y)/h_y**2 + u(t, x - h_x, y + h_y)/h_y**2)/h_x**2 + (-2.0*v(t, x + h_x, y)/dt**2 + v(t - dt, x + h_x, y)/dt**2 + v(t + dt, x + h_x, y)/dt**2 + u(t, x, y)/h_x**2 - 2.0*u(t, x + h_x, y)/h_x**2 + u(t, x + 2*h_x, y)/h_x**2 - 2.0*u(t, x + h_x, y)/h_y**2 + u(t, x + h_x, y - h_y)/h_y**2 + u(t, x + h_x, y + h_y)/h_y**2)/h_x**2"
            ]
          },
          "execution_count": 36,
          "metadata": {},
          "output_type": "execute_result"
        }
      ],
      "source": [
        "(v.dt2 + u.laplace).dx2.evaluate"
      ]
    },
    {
      "cell_type": "markdown",
      "metadata": {
        "id": "lTeup72ObviK"
      },
      "source": [
        "In the linear convection example, the complexity of a pure Python vs Devito code wasn't much different, but when you start implementing stencils such as the one above you can see that Devito will quickly become much more convenient!"
      ]
    },
    {
      "cell_type": "markdown",
      "metadata": {
        "id": "ac00rJ9NbviK"
      },
      "source": [
        "**IMPORTANT**: Devito should not be thought of as a black box. Every aspect of the DSL has a well defined meaning (as we saw with the definition of derivatives etc. above). Although due to time-constraints there are some aspects of the DSL we're going to have to 'gloss' over, these are also rigorously (and clearly) defined and hence would not be difficult to explain if we had the time."
      ]
    }
  ],
  "metadata": {
    "kernelspec": {
      "display_name": "Python 3 (ipykernel)",
      "language": "python",
      "name": "python3"
    },
    "language_info": {
      "codemirror_mode": {
        "name": "ipython",
        "version": 3
      },
      "file_extension": ".py",
      "mimetype": "text/x-python",
      "name": "python",
      "nbconvert_exporter": "python",
      "pygments_lexer": "ipython3",
      "version": "3.10.9"
    },
    "colab": {
      "provenance": []
    }
  },
  "nbformat": 4,
  "nbformat_minor": 0
}