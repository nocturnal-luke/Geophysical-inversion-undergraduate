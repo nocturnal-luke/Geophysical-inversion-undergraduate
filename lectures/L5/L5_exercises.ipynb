{
  "cells": [
    {
      "cell_type": "markdown",
      "metadata": {
        "id": "iFG1H1OU6ddk"
      },
      "source": [
        "# Lecture 5 exercises"
      ]
    },
    {
      "cell_type": "code",
      "source": [
        "!pip install devito"
      ],
      "metadata": {
        "collapsed": true,
        "id": "PQ2iwpLy6d-k",
        "outputId": "d824382b-cc7b-46c9-b5ff-cfe052358845",
        "colab": {
          "base_uri": "https://localhost:8080/"
        }
      },
      "execution_count": 1,
      "outputs": [
        {
          "output_type": "stream",
          "name": "stdout",
          "text": [
            "Collecting devito\n",
            "  Downloading devito-4.8.12-py3-none-any.whl.metadata (3.6 kB)\n",
            "Requirement already satisfied: pip>=9.0.1 in /usr/local/lib/python3.11/dist-packages (from devito) (24.1.2)\n",
            "Requirement already satisfied: psutil<8.0,>=5.1.0 in /usr/local/lib/python3.11/dist-packages (from devito) (5.9.5)\n",
            "Requirement already satisfied: py-cpuinfo<10 in /usr/local/lib/python3.11/dist-packages (from devito) (9.0.0)\n",
            "Collecting cgen>=2020.1 (from devito)\n",
            "  Downloading cgen-2020.1.tar.gz (19 kB)\n",
            "  Preparing metadata (setup.py) ... \u001b[?25l\u001b[?25hdone\n",
            "Collecting codepy>=2019.1 (from devito)\n",
            "  Downloading codepy-2023.1.tar.gz (21 kB)\n",
            "  Preparing metadata (setup.py) ... \u001b[?25l\u001b[?25hdone\n",
            "Requirement already satisfied: click<9.0 in /usr/local/lib/python3.11/dist-packages (from devito) (8.1.8)\n",
            "Requirement already satisfied: multidict in /usr/local/lib/python3.11/dist-packages (from devito) (6.1.0)\n",
            "Collecting anytree<=2.12.1,>=2.4.3 (from devito)\n",
            "  Downloading anytree-2.12.1-py3-none-any.whl.metadata (8.1 kB)\n",
            "Requirement already satisfied: cloudpickle in /usr/local/lib/python3.11/dist-packages (from devito) (3.1.1)\n",
            "Requirement already satisfied: sympy<1.14,>=1.12.1 in /usr/local/lib/python3.11/dist-packages (from devito) (1.13.1)\n",
            "Collecting numpy<2.3,>=2.0 (from devito)\n",
            "  Downloading numpy-2.2.3-cp311-cp311-manylinux_2_17_x86_64.manylinux2014_x86_64.whl.metadata (62 kB)\n",
            "\u001b[2K     \u001b[90m━━━━━━━━━━━━━━━━━━━━━━━━━━━━━━━━━━━━━━━━\u001b[0m \u001b[32m62.0/62.0 kB\u001b[0m \u001b[31m1.9 MB/s\u001b[0m eta \u001b[36m0:00:00\u001b[0m\n",
            "\u001b[?25hRequirement already satisfied: six in /usr/local/lib/python3.11/dist-packages (from anytree<=2.12.1,>=2.4.3->devito) (1.17.0)\n",
            "Collecting pytools>=2015.1.2 (from cgen>=2020.1->devito)\n",
            "  Downloading pytools-2025.1.1-py3-none-any.whl.metadata (3.0 kB)\n",
            "Requirement already satisfied: platformdirs>=2.2.0 in /usr/local/lib/python3.11/dist-packages (from codepy>=2019.1->devito) (4.3.6)\n",
            "Requirement already satisfied: mpmath<1.4,>=1.1.0 in /usr/local/lib/python3.11/dist-packages (from sympy<1.14,>=1.12.1->devito) (1.3.0)\n",
            "Requirement already satisfied: typing-extensions>=4.5 in /usr/local/lib/python3.11/dist-packages (from pytools>=2015.1.2->cgen>=2020.1->devito) (4.12.2)\n",
            "Downloading devito-4.8.12-py3-none-any.whl (589 kB)\n",
            "\u001b[2K   \u001b[90m━━━━━━━━━━━━━━━━━━━━━━━━━━━━━━━━━━━━━━━━\u001b[0m \u001b[32m589.3/589.3 kB\u001b[0m \u001b[31m18.2 MB/s\u001b[0m eta \u001b[36m0:00:00\u001b[0m\n",
            "\u001b[?25hDownloading anytree-2.12.1-py3-none-any.whl (44 kB)\n",
            "\u001b[2K   \u001b[90m━━━━━━━━━━━━━━━━━━━━━━━━━━━━━━━━━━━━━━━━\u001b[0m \u001b[32m44.9/44.9 kB\u001b[0m \u001b[31m3.8 MB/s\u001b[0m eta \u001b[36m0:00:00\u001b[0m\n",
            "\u001b[?25hDownloading numpy-2.2.3-cp311-cp311-manylinux_2_17_x86_64.manylinux2014_x86_64.whl (16.4 MB)\n",
            "\u001b[2K   \u001b[90m━━━━━━━━━━━━━━━━━━━━━━━━━━━━━━━━━━━━━━━━\u001b[0m \u001b[32m16.4/16.4 MB\u001b[0m \u001b[31m33.3 MB/s\u001b[0m eta \u001b[36m0:00:00\u001b[0m\n",
            "\u001b[?25hDownloading pytools-2025.1.1-py3-none-any.whl (92 kB)\n",
            "\u001b[2K   \u001b[90m━━━━━━━━━━━━━━━━━━━━━━━━━━━━━━━━━━━━━━━━\u001b[0m \u001b[32m92.8/92.8 kB\u001b[0m \u001b[31m6.9 MB/s\u001b[0m eta \u001b[36m0:00:00\u001b[0m\n",
            "\u001b[?25hBuilding wheels for collected packages: cgen, codepy\n",
            "  Building wheel for cgen (setup.py) ... \u001b[?25l\u001b[?25hdone\n",
            "  Created wheel for cgen: filename=cgen-2020.1-py3-none-any.whl size=15822 sha256=102df93cde3635ebe137a7c4a6096cf652b505f6220d1e78c3accb763d1277cf\n",
            "  Stored in directory: /root/.cache/pip/wheels/01/34/f5/22d1829ddda18b9c41750593a5b8845f86d507317100457abd\n",
            "  Building wheel for codepy (setup.py) ... \u001b[?25l\u001b[?25hdone\n",
            "  Created wheel for codepy: filename=codepy-2023.1-py3-none-any.whl size=24870 sha256=6ea60b64f2e839f62f687c172a3daabf18bb4720fc7287f7834c28762a122813\n",
            "  Stored in directory: /root/.cache/pip/wheels/50/e4/42/56224a0f1f9d2260ed7525f560a46785f90952794d17d9be2e\n",
            "Successfully built cgen codepy\n",
            "Installing collected packages: pytools, numpy, anytree, cgen, codepy, devito\n",
            "  Attempting uninstall: numpy\n",
            "    Found existing installation: numpy 1.26.4\n",
            "    Uninstalling numpy-1.26.4:\n",
            "      Successfully uninstalled numpy-1.26.4\n",
            "\u001b[31mERROR: pip's dependency resolver does not currently take into account all the packages that are installed. This behaviour is the source of the following dependency conflicts.\n",
            "tensorflow 2.18.0 requires numpy<2.1.0,>=1.26.0, but you have numpy 2.2.3 which is incompatible.\n",
            "gensim 4.3.3 requires numpy<2.0,>=1.18.5, but you have numpy 2.2.3 which is incompatible.\n",
            "pytensor 2.27.1 requires numpy<2,>=1.17.0, but you have numpy 2.2.3 which is incompatible.\n",
            "langchain 0.3.19 requires numpy<2,>=1.26.4; python_version < \"3.12\", but you have numpy 2.2.3 which is incompatible.\n",
            "thinc 8.2.5 requires numpy<2.0.0,>=1.19.0; python_version >= \"3.9\", but you have numpy 2.2.3 which is incompatible.\n",
            "numba 0.61.0 requires numpy<2.2,>=1.24, but you have numpy 2.2.3 which is incompatible.\u001b[0m\u001b[31m\n",
            "\u001b[0mSuccessfully installed anytree-2.12.1 cgen-2020.1 codepy-2023.1 devito-4.8.12 numpy-2.2.3 pytools-2025.1.1\n"
          ]
        }
      ]
    },
    {
      "cell_type": "markdown",
      "metadata": {
        "id": "Y9AItzWI6ddn"
      },
      "source": [
        "## Excersie 1: Comparison against exact solution 1\n",
        "\n",
        "An exact traveling wave solution to the 1-dimensional wave-equation,\n",
        "$$\\frac{1}{c^2}\\frac{\\partial^2 u}{\\partial t^2}-\\frac{\\partial^2 u}{\\partial x^2}=0,$$\n",
        "on the interval $x\\in[0,1]$ with $c=1$ is given by:\n",
        "$$u(x,t)=\\left[\\mathrm{max}(0,4\\zeta(1-\\zeta))\\right]^{12},$$\n",
        "where\n",
        "$$\\zeta=4(x-ct)-1,$$\n",
        "subject to the boundary conditions $u(0,t)=u(1,t)=0$. Compose a Devito operator to solve this problem and check that the numerical solution returns to (approximately) the initial condition at $t=2$."
      ]
    },
    {
      "cell_type": "code",
      "execution_count": 15,
      "metadata": {
        "id": "Rq4xFeKo6ddo"
      },
      "outputs": [],
      "source": [
        "# Some hints:\n",
        "\n",
        "# Additional required imports\n",
        "import numpy as np\n",
        "from devito import Grid, Function, TimeFunction, solve\n",
        "\n",
        "# Python functions to compute the initial condition:\n",
        "def compute_zeta(x,t):\n",
        "    return 4.0*(x-t)-1.0\n",
        "\n",
        "def compute_u(x,t):\n",
        "    u1 = 4.0*compute_zeta(x,t)*(1.0-compute_zeta(x,t))\n",
        "    u2 = np.zeros(u1.shape)\n",
        "    return (np.maximum(u1,u2))**(12)\n",
        "\n",
        "# define spatial mesh\n",
        "# Size of rectangular domain\n",
        "Lx = 1\n",
        "\n",
        "# Number of grid points in each direction, including boundary nodes\n",
        "Nx = 201\n",
        "\n",
        "# hence the mesh spacing\n",
        "dx = Lx/(Nx-1)\n",
        "\n",
        "x = np.linspace(0,Lx,Nx)\n",
        "\n",
        "grid = Grid(shape=(Nx), extent=(Lx))\n",
        "\n",
        "# Initial condition\n",
        "u_0 = Function(name='u_0', grid=grid)\n",
        "u_0.data[:] = compute_u(x,0)\n",
        "\n",
        "# We'll need one of these for composing the boundary conditions:\n",
        "t = grid.stepping_dim\n",
        "time = grid.time_dim"
      ]
    },
    {
      "cell_type": "code",
      "execution_count": null,
      "metadata": {
        "id": "jupodcHM6ddq",
        "outputId": "c40e80be-da77-4d8f-956d-196375ff5295"
      },
      "outputs": [
        {
          "data": {
            "image/png": "[encoded data removed]",
            "text/plain": [
              "<Figure size 640x480 with 1 Axes>"
            ]
          },
          "metadata": {},
          "output_type": "display_data"
        }
      ],
      "source": [
        "# Plot the initial condition\n",
        "\n",
        "%matplotlib inline\n",
        "import matplotlib.pyplot as plt\n",
        "\n",
        "plt.plot(x, u_0.data[:])\n",
        "plt.xlabel('x')\n",
        "plt.ylabel('u(x,0)')\n",
        "plt.show()"
      ]
    },
    {
      "cell_type": "code",
      "source": [
        "from devito import Grid, TimeFunction, Eq, Operator"
      ],
      "metadata": {
        "id": "dPDJzGJcBkq0"
      },
      "execution_count": 19,
      "outputs": []
    },
    {
      "cell_type": "code",
      "source": [
        "# Define our mesh\n",
        "\n",
        "nx = 101  # Number of grid points in space\n",
        "nt = 2000  # Number of time steps\n",
        "dx = 1.0 / (nx - 1)  # Spatial step size\n",
        "dt = 0.001  # Time step size (small for stability)\n",
        "\n",
        "grid = Grid(shape=(nx,), extent=(1.0,))  # 1D grid from x=0 to x=1"
      ],
      "metadata": {
        "id": "KLzdsdJnBbr5"
      },
      "execution_count": 20,
      "outputs": []
    },
    {
      "cell_type": "code",
      "source": [
        "# Define the wavefield\n",
        "\n",
        "u = TimeFunction(name=\"u\", grid=grid, time_order=2, space_order=2)"
      ],
      "metadata": {
        "id": "xedrx4XuBmw9",
        "outputId": "56084e83-29cb-4ac1-c4f4-ae3dda751bee",
        "colab": {
          "base_uri": "https://localhost:8080/",
          "height": 39
        }
      },
      "execution_count": 30,
      "outputs": [
        {
          "output_type": "execute_result",
          "data": {
            "text/plain": [
              "u(t, x)"
            ],
            "text/latex": "$\\displaystyle u(t, x)$"
          },
          "metadata": {},
          "execution_count": 30
        }
      ]
    },
    {
      "cell_type": "code",
      "source": [
        "# Define the IC\n",
        "\n",
        "c = 1.0  # Wave speed\n",
        "\n",
        "x_vals = np.linspace(0, 1, nx)  # Generate the spatial coordinates\n",
        "\n",
        "zeta = 4 * (x_vals - 1) - 1\n",
        "\n",
        "u.data[0, :] = np.maximum(0, 4 * zeta * (1 - zeta))**12 # For all t, assign IC"
      ],
      "metadata": {
        "id": "vJ2mi24vBqyZ"
      },
      "execution_count": 25,
      "outputs": []
    },
    {
      "cell_type": "code",
      "source": [
        "# Define the equation\n",
        "pde = (1/c**2) * (u.dt2-u.dx2) # wave eq\n",
        "\n",
        "stencil = solve(pde, u.forward)\n",
        "eq = Eq(u.forward, stencil) # This is our FD update scheme\n",
        "eq.evaluate"
      ],
      "metadata": {
        "id": "L5UFlSkJCwXK",
        "outputId": "073c1afd-4996-45b9-f2d4-e70b6f21d7c3",
        "colab": {
          "base_uri": "https://localhost:8080/",
          "height": 79
        }
      },
      "execution_count": 31,
      "outputs": [
        {
          "output_type": "execute_result",
          "data": {
            "text/plain": [
              "Eq(u(t + dt, x), dt**2*(-(-2.0*u(t, x)/dt**2 + u(t - dt, x)/dt**2) - 2.0*u(t, x)/h_x**2 + u(t, x - h_x)/h_x**2 + u(t, x + h_x)/h_x**2))"
            ],
            "text/latex": "$\\displaystyle u(t + dt, x) = dt^{2} \\left(- (- \\frac{2.0 u(t, x)}{dt^{2}} + \\frac{u(t - dt, x)}{dt^{2}}) + \\left(- \\frac{2.0 u(t, x)}{h_{x}^{2}} + \\frac{u(t, x - h_x)}{h_{x}^{2}} + \\frac{u(t, x + h_x)}{h_{x}^{2}}\\right)\\right)$"
          },
          "metadata": {},
          "execution_count": 31
        }
      ]
    },
    {
      "cell_type": "code",
      "source": [
        "# Apply BCs\n",
        "\n",
        "bc = [Eq(u[t+1, 0], 0)]\n",
        "bc += [Eq(u[t+1, Nx-1], 0)]"
      ],
      "metadata": {
        "id": "ij6Xe8p_Fmqc"
      },
      "execution_count": 38,
      "outputs": []
    },
    {
      "cell_type": "code",
      "source": [
        "# Create the Devito operator and solve\n",
        "op = Operator([eq]+bc)\n",
        "op.apply(time_m=1, time_M=1999, dt=dt)"
      ],
      "metadata": {
        "id": "11GZAfbyF3y-",
        "outputId": "2f5158ff-9da8-4f4c-b942-a8cfb5d9ae2c",
        "colab": {
          "base_uri": "https://localhost:8080/"
        }
      },
      "execution_count": 39,
      "outputs": [
        {
          "output_type": "stream",
          "name": "stderr",
          "text": [
            "Operator `Kernel` ran in 0.01 s\n",
            "INFO:Devito:Operator `Kernel` ran in 0.01 s\n"
          ]
        },
        {
          "output_type": "execute_result",
          "data": {
            "text/plain": [
              "PerformanceSummary([(PerfKey(name='section0', rank=None),\n",
              "                     PerfEntry(time=0.0001439999999999997, gflopss=0.0, gpointss=0.0, oi=0.0, ops=0, itershapes=[]))])"
            ]
          },
          "metadata": {},
          "execution_count": 39
        }
      ]
    },
    {
      "cell_type": "code",
      "source": [
        "import matplotlib.pyplot as plt"
      ],
      "metadata": {
        "id": "mp-iYYrYGEkm"
      },
      "execution_count": 34,
      "outputs": []
    },
    {
      "cell_type": "code",
      "source": [
        "plt.plot(x_vals, u.data[0, :], label=\"Initial Condition (t=0)\", linestyle=\"dashed\")\n",
        "plt.plot(x_vals, u.data[-1, :], label=\"Numerical Solution (t=2)\")\n",
        "plt.legend()\n",
        "plt.xlabel(\"x\")\n",
        "plt.ylabel(\"u(x,t)\")\n",
        "plt.title(\"Comparison of Initial and Final Solution\")\n",
        "plt.show()"
      ],
      "metadata": {
        "id": "77Zo_YtuGDIf",
        "outputId": "ebb80d98-29a8-4a13-9022-8cd4cb7c01cf",
        "colab": {
          "base_uri": "https://localhost:8080/",
          "height": 472
        }
      },
      "execution_count": 40,
      "outputs": [
        {
          "output_type": "display_data",
          "data": {
            "text/plain": [
              "<Figure size 640x480 with 1 Axes>"
            ],
            "image/png": "[encoded data removed]"
          },
          "metadata": {}
        }
      ]
    },
    {
      "cell_type": "markdown",
      "metadata": {
        "id": "uVSpBgTf6dds"
      },
      "source": [
        "#### **Hint** regarding boundary conditions:\n",
        "\n",
        "Dirichlet boundary conditions can be set via a list of equation as, e.g., `bc=[Eq(u[t+1, 0], 0)]` and then included in an operator via `op=Operator([main_list_of_equations]+bc)`. See the linear convection example from the first notebook of lecture 10."
      ]
    },
    {
      "cell_type": "markdown",
      "metadata": {
        "id": "-vxWEYdL6dds"
      },
      "source": [
        "## Excersie 2: Comparison against exact solution 2\n",
        "\n",
        "Consider the following boundary value problem for the 1D wave equation:\n",
        "\n",
        "\\begin{align}\n",
        "  \\frac{1}{c^2}\\frac{\\partial^2 u}{\\partial t^2}(x,t)-\\frac{\\partial^2 u}{\\partial x^2}(x,t)&=0, \\\\\n",
        "  u(0,t)=u(10,t)&= 0, \\\\\n",
        "  \\frac{\\partial u}{\\partial t}(x,0)&=0, \\\\\n",
        "  u(x,0)&=\n",
        "    \\begin{cases}\n",
        "      0, & 0 \\leq x < 4,\\\\\n",
        "      1, & 4 \\leq x \\leq 6,\\\\\n",
        "      0, & 6 < x \\leq 10.\n",
        "    \\end{cases}\n",
        "\\end{align}\n",
        "\n",
        "The initial state is illustrated in the figure below:"
      ]
    },
    {
      "cell_type": "markdown",
      "metadata": {
        "id": "_x9Ip16y6ddt"
      },
      "source": [
        "<img src=\"https://github.com/nocturnal-luke/Geophysical-inversion-undergraduate/blob/main/lectures/L5/figures/exact_solution.png?raw=1\" width=\"450\" height=\"450\" align=\"center\"/>"
      ]
    },
    {
      "cell_type": "markdown",
      "metadata": {
        "id": "u-F77q5A6ddt"
      },
      "source": [
        "- **Show that the exact solution to this problem is:**\n",
        "\\begin{equation}\n",
        " u(x,t)=\\sum_{n=1}^{\\infty}A_{n}\\sin\\left(\\frac{n\\pi x}{10}\\right)\\cos\\left(\\frac{n\\pi ct}{10}\\right),\n",
        "\\end{equation}\n",
        "where\n",
        "\\begin{equation}\n",
        "  A_n=\\frac{2}{n\\pi}\\left[\\cos\\left(\\frac{4n\\pi}{10}\\right)-\\cos\\left(\\frac{6n\\pi}{10}\\right)\\right].\n",
        "\\end{equation}"
      ]
    },
    {
      "cell_type": "markdown",
      "metadata": {
        "id": "ntbtHHJC6ddu"
      },
      "source": [
        "Below is a snippet of code to plot the exact result at any point in time. You can use it to explore the evolution of the wave. Does it produce the expected behavior?"
      ]
    },
    {
      "cell_type": "code",
      "execution_count": null,
      "metadata": {
        "id": "gon644Cm6ddu"
      },
      "outputs": [],
      "source": [
        "from numpy import sin, cos, pi, linspace, shape, zeros, mod\n",
        "\n",
        "import matplotlib.pyplot as plt\n",
        "\n",
        "# Global constants\n",
        "L = 10. # Define length of domain as a global variable\n",
        "N = 2000 # Number of terms in the Fourier sine series\n",
        "l = 1001 # Define number of points in domain\n",
        "c = 1.0 # Speed of sound\n",
        "\n",
        "x = linspace(0, L, l) # x axis for calling u(x, t) at given t\n",
        "\n",
        "# Calculate exact solution\n",
        "\n",
        "def u_e(x, t):\n",
        "    s = zeros(x.size)\n",
        "    for i in range(1,N+1):\n",
        "        s+=A_n(i)*sin(i*pi*x/L)*cos(i*pi*c*t/L)\n",
        "    return s\n",
        "\n",
        "def A_n(n):\n",
        "    const = 2/n/pi*(cos(4*n*pi/L)-cos(6*n*pi/L))\n",
        "    return const"
      ]
    },
    {
      "cell_type": "code",
      "execution_count": null,
      "metadata": {
        "id": "3jIKLmY26ddu",
        "outputId": "f5a16fa8-0a78-405a-f43e-5cf08b3fd627"
      },
      "outputs": [
        {
          "data": {
            "image/png": "[encoded data removed]",
            "text/plain": [
              "<Figure size 640x480 with 1 Axes>"
            ]
          },
          "metadata": {},
          "output_type": "display_data"
        }
      ],
      "source": [
        "%matplotlib inline\n",
        "# Plot solution at a point T in time\n",
        "T = 0\n",
        "plt.plot(x, u_e(x, T))\n",
        "plt.xlabel('x')\n",
        "plt.ylabel('u(x,0)')\n",
        "plt.show()"
      ]
    },
    {
      "cell_type": "markdown",
      "metadata": {
        "id": "fLXIE2Jr6ddv"
      },
      "source": [
        "- **Can you write a finite difference code to solve the above problem?**\n",
        "- **Can you now also solve the same problem using Devito?**\n",
        "- **How similar is your solution to the exact solution? How do you think this result can be improved?**"
      ]
    }
  ],
  "metadata": {
    "kernelspec": {
      "display_name": "Python 3 (ipykernel)",
      "language": "python",
      "name": "python3"
    },
    "language_info": {
      "codemirror_mode": {
        "name": "ipython",
        "version": 3
      },
      "file_extension": ".py",
      "mimetype": "text/x-python",
      "name": "python",
      "nbconvert_exporter": "python",
      "pygments_lexer": "ipython3",
      "version": "3.10.9"
    },
    "colab": {
      "provenance": []
    }
  },
  "nbformat": 4,
  "nbformat_minor": 0
}