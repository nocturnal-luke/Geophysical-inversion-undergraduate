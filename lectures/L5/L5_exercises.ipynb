{
  "cells": [
    {
      "cell_type": "markdown",
      "metadata": {
        "id": "iFG1H1OU6ddk"
      },
      "source": [
        "# Lecture 5 exercises"
      ]
    },
    {
      "cell_type": "code",
      "execution_count": null,
      "metadata": {
        "collapsed": true,
        "id": "PQ2iwpLy6d-k"
      },
      "outputs": [
        {
          "name": "stdout",
          "output_type": "stream",
          "text": [
            "Requirement already satisfied: devito in c:\\users\\dnrlu\\appdata\\local\\programs\\python\\python312\\lib\\site-packages (4.8.12)\n",
            "Requirement already satisfied: pip>=9.0.1 in c:\\users\\dnrlu\\appdata\\local\\programs\\python\\python312\\lib\\site-packages (from devito) (25.0.1)\n",
            "Requirement already satisfied: psutil<8.0,>=5.1.0 in c:\\users\\dnrlu\\appdata\\roaming\\python\\python312\\site-packages (from devito) (6.1.1)\n",
            "Requirement already satisfied: py-cpuinfo<10 in c:\\users\\dnrlu\\appdata\\local\\programs\\python\\python312\\lib\\site-packages (from devito) (9.0.0)\n",
            "Requirement already satisfied: cgen>=2020.1 in c:\\users\\dnrlu\\appdata\\local\\programs\\python\\python312\\lib\\site-packages (from devito) (2020.1)\n",
            "Requirement already satisfied: codepy>=2019.1 in c:\\users\\dnrlu\\appdata\\local\\programs\\python\\python312\\lib\\site-packages (from devito) (2023.1)\n",
            "Requirement already satisfied: click<9.0 in c:\\users\\dnrlu\\appdata\\local\\programs\\python\\python312\\lib\\site-packages (from devito) (8.1.7)\n",
            "Requirement already satisfied: multidict in c:\\users\\dnrlu\\appdata\\local\\programs\\python\\python312\\lib\\site-packages (from devito) (6.1.0)\n",
            "Requirement already satisfied: anytree<=2.12.1,>=2.4.3 in c:\\users\\dnrlu\\appdata\\local\\programs\\python\\python312\\lib\\site-packages (from devito) (2.12.1)\n",
            "Requirement already satisfied: cloudpickle in c:\\users\\dnrlu\\appdata\\local\\programs\\python\\python312\\lib\\site-packages (from devito) (3.1.1)\n",
            "Requirement already satisfied: sympy<1.14,>=1.12.1 in c:\\users\\dnrlu\\appdata\\local\\programs\\python\\python312\\lib\\site-packages (from devito) (1.13.3)\n",
            "Requirement already satisfied: numpy<2.3,>=2.0 in c:\\users\\dnrlu\\appdata\\local\\programs\\python\\python312\\lib\\site-packages (from devito) (2.2.3)\n",
            "Requirement already satisfied: six in c:\\users\\dnrlu\\appdata\\local\\programs\\python\\python312\\lib\\site-packages (from anytree<=2.12.1,>=2.4.3->devito) (1.16.0)\n",
            "Requirement already satisfied: pytools>=2015.1.2 in c:\\users\\dnrlu\\appdata\\local\\programs\\python\\python312\\lib\\site-packages (from cgen>=2020.1->devito) (2025.1.1)\n",
            "Requirement already satisfied: colorama in c:\\users\\dnrlu\\appdata\\local\\programs\\python\\python312\\lib\\site-packages (from click<9.0->devito) (0.4.6)\n",
            "Requirement already satisfied: platformdirs>=2.2.0 in c:\\users\\dnrlu\\appdata\\local\\programs\\python\\python312\\lib\\site-packages (from codepy>=2019.1->devito) (4.3.6)\n",
            "Requirement already satisfied: mpmath<1.4,>=1.1.0 in c:\\users\\dnrlu\\appdata\\local\\programs\\python\\python312\\lib\\site-packages (from sympy<1.14,>=1.12.1->devito) (1.3.0)\n",
            "Requirement already satisfied: typing-extensions>=4.5 in c:\\users\\dnrlu\\appdata\\local\\programs\\python\\python312\\lib\\site-packages (from pytools>=2015.1.2->cgen>=2020.1->devito) (4.12.2)\n"
          ]
        }
      ],
      "source": [
        "!pip install devito > /dev/null 2>&1"
      ]
    },
    {
      "cell_type": "markdown",
      "metadata": {
        "id": "Y9AItzWI6ddn"
      },
      "source": [
        "## Excersie 1: Comparison against exact solution 1\n",
        "\n",
        "An exact traveling wave solution to the 1-dimensional wave-equation,\n",
        "$$\\frac{1}{c^2}\\frac{\\partial^2 u}{\\partial t^2}-\\frac{\\partial^2 u}{\\partial x^2}=0,$$\n",
        "on the interval $x\\in[0,1]$ with $c=1$ is given by:\n",
        "$$u(x,t)=\\left[\\mathrm{max}(0,4\\zeta(1-\\zeta))\\right]^{12},$$\n",
        "where\n",
        "$$\\zeta=4(x-ct)-1,$$\n",
        "subject to the boundary conditions $u(0,t)=u(1,t)=0$. Compose a Devito operator to solve this problem and check that the numerical solution returns to (approximately) the initial condition at $t=2$."
      ]
    },
    {
      "cell_type": "code",
      "execution_count": 6,
      "metadata": {
        "id": "Rq4xFeKo6ddo"
      },
      "outputs": [],
      "source": [
        "# required imports\n",
        "import numpy as np\n",
        "from devito import Grid, Function, TimeFunction, solve\n",
        "\n",
        "# Python functions to compute the initial condition:\n",
        "def compute_zeta(x,t):\n",
        "    return 4.0*(x-t)-1.0\n",
        "\n",
        "def compute_u(x,t):\n",
        "    u1 = 4.0*compute_zeta(x,t)*(1.0-compute_zeta(x,t))\n",
        "    u2 = np.zeros(u1.shape)\n",
        "    return (np.maximum(u1,u2))**(12)\n",
        "\n",
        "# define spatial mesh\n",
        "# Size of rectangular domain\n",
        "Lx = 1\n",
        "\n",
        "# Number of grid points in each direction, including boundary nodes\n",
        "Nx = 201\n",
        "\n",
        "# hence the mesh spacing\n",
        "dx = Lx/(Nx-1)\n",
        "\n",
        "x = np.linspace(0,Lx,Nx)\n",
        "\n",
        "grid = Grid(shape=(Nx), extent=(Lx))\n",
        "\n",
        "# Initial condition\n",
        "u_0 = Function(name='u_0', grid=grid)\n",
        "u_0.data[:] = compute_u(x,0)\n",
        "\n",
        "# We'll need one of these for composing the boundary conditions:\n",
        "t = grid.stepping_dim\n",
        "time = grid.time_dim"
      ]
    },
    {
      "cell_type": "code",
      "execution_count": null,
      "metadata": {
        "colab": {
          "base_uri": "https://localhost:8080/",
          "height": 449
        },
        "id": "jupodcHM6ddq",
        "outputId": "1abac274-d727-4f84-d439-f1b159ee26b9"
      },
      "outputs": [
        {
          "data": {
            "image/png": "[encoded data removed]",
            "text/plain": [
              "<Figure size 640x480 with 1 Axes>"
            ]
          },
          "metadata": {},
          "output_type": "display_data"
        }
      ],
      "source": [
        "# Plot the initial condition\n",
        "\n",
        "%matplotlib inline\n",
        "import matplotlib.pyplot as plt\n",
        "\n",
        "plt.plot(x, u_0.data[:])\n",
        "plt.xlabel('x')\n",
        "plt.ylabel('u(x,0)')\n",
        "plt.show()"
      ]
    },
    {
      "cell_type": "code",
      "execution_count": null,
      "metadata": {
        "id": "dPDJzGJcBkq0"
      },
      "outputs": [],
      "source": [
        "from devito import Grid, TimeFunction, Eq, Operator"
      ]
    },
    {
      "cell_type": "code",
      "execution_count": null,
      "metadata": {
        "id": "KLzdsdJnBbr5"
      },
      "outputs": [],
      "source": [
        "# Define our mesh\n",
        "\n",
        "nx = 201  # Number of grid points in space\n",
        "nt = 201  # Number of time steps\n",
        "dx = 1.0 / (nx - 1)  # Spatial step size\n",
        "dt = 0.001  # Time step size (small for stability)\n",
        "\n",
        "grid = Grid(shape=(nx), extent=(1.0))  # 1D grid from x=0 to x=1"
      ]
    },
    {
      "cell_type": "code",
      "execution_count": null,
      "metadata": {
        "id": "xedrx4XuBmw9"
      },
      "outputs": [],
      "source": [
        "# Define the wavefield\n",
        "c = 1.\n",
        "u = TimeFunction(name=\"u\", grid=grid, time_order=2, space_order=4)"
      ]
    },
    {
      "cell_type": "code",
      "execution_count": null,
      "metadata": {
        "id": "vJ2mi24vBqyZ"
      },
      "outputs": [],
      "source": [
        "# functions to compute the initial condition:\n",
        "def compute_zeta(x,t):\n",
        "    return 4.0*(x-t)-1.0\n",
        "\n",
        "def compute_u(x,t):\n",
        "    u1 = 4.0*compute_zeta(x,t)*(1.0-compute_zeta(x,t))\n",
        "    u2 = np.zeros(u1.shape)\n",
        "    return (np.maximum(u1,u2))**(12)"
      ]
    },
    {
      "cell_type": "code",
      "execution_count": null,
      "metadata": {
        "id": "L5UFlSkJCwXK"
      },
      "outputs": [],
      "source": [
        "# Define the equation\n",
        "pde = (1/c**2) * (u.dt2-u.dx2) # wave eq\n",
        "\n",
        "stencil = solve(pde, u.forward)\n",
        "eq = Eq(u.forward, stencil) # This is our FD update scheme"
      ]
    },
    {
      "cell_type": "code",
      "execution_count": null,
      "metadata": {
        "id": "dP7CF3_2n1ZL"
      },
      "outputs": [],
      "source": [
        "# Define IC\n",
        "\n",
        "u_0 = Function(name='u_0', grid=grid)\n",
        "u_0.data[:] = compute_u(x, 0)"
      ]
    },
    {
      "cell_type": "code",
      "execution_count": null,
      "metadata": {
        "id": "ij6Xe8p_Fmqc"
      },
      "outputs": [],
      "source": [
        "# Apply BCs & IC\n",
        "\n",
        "bc = [Eq(u[t+1, 0], 0)]\n",
        "bc += [Eq(u[t+1, nx-1], 0)]\n",
        "\n",
        "# Set the initial conditions\n",
        "u.data[0,:] = u_0.data[:]\n",
        "u.data[1,:] = compute_u(x,dt)"
      ]
    },
    {
      "cell_type": "code",
      "execution_count": null,
      "metadata": {
        "colab": {
          "base_uri": "https://localhost:8080/"
        },
        "id": "11GZAfbyF3y-",
        "outputId": "def53715-0137-402e-8b64-1c666c2f5656"
      },
      "outputs": [
        {
          "name": "stderr",
          "output_type": "stream",
          "text": [
            "Operator `Kernel` ran in 0.01 s\n",
            "INFO:Devito:Operator `Kernel` ran in 0.01 s\n"
          ]
        },
        {
          "data": {
            "text/plain": [
              "PerformanceSummary([(PerfKey(name='section0', rank=None),\n",
              "                     PerfEntry(time=0.00015999999999999966, gflopss=0.0, gpointss=0.0, oi=0.0, ops=0, itershapes=[]))])"
            ]
          },
          "execution_count": 328,
          "metadata": {},
          "output_type": "execute_result"
        }
      ],
      "source": [
        "# Create the Devito operator and solve\n",
        "op = Operator([eq]+bc)\n",
        "op.apply(time_m=1, time_M=1999, dt=dt)"
      ]
    },
    {
      "cell_type": "code",
      "execution_count": 4,
      "metadata": {
        "id": "mp-iYYrYGEkm"
      },
      "outputs": [],
      "source": [
        "import matplotlib.pyplot as plt"
      ]
    },
    {
      "cell_type": "code",
      "execution_count": null,
      "metadata": {
        "colab": {
          "base_uri": "https://localhost:8080/",
          "height": 449
        },
        "id": "77Zo_YtuGDIf",
        "outputId": "9dc8b23f-9214-433e-ced2-c9e9a3009558"
      },
      "outputs": [
        {
          "data": {
            "image/png": "[encoded data removed]",
            "text/plain": [
              "<Figure size 640x480 with 1 Axes>"
            ]
          },
          "metadata": {},
          "output_type": "display_data"
        }
      ],
      "source": [
        "%matplotlib inline\n",
        "import matplotlib.pyplot as plt\n",
        "\n",
        "plt.plot(x, u_0.data[:], label = \"$u(x,0)$\")\n",
        "plt.plot(x, u.data[0, :], label = \"$u(x,T)$\")\n",
        "plt.xlabel('$x$')\n",
        "plt.ylabel('$u$')\n",
        "plt.legend()\n",
        "plt.show()"
      ]
    },
    {
      "cell_type": "markdown",
      "metadata": {
        "id": "rZVVA4CDpDF3"
      },
      "source": [
        "Above, we see that the wave at $t=2$ is in the same state as in the IC. This is because the wave travels for 2 units of time without changing shape in a domain with an extent of 1 unit of size and reflecting boundary conditions."
      ]
    },
    {
      "cell_type": "markdown",
      "metadata": {
        "id": "uVSpBgTf6dds"
      },
      "source": [
        "#### **Hint** regarding boundary conditions:\n",
        "\n",
        "Dirichlet boundary conditions can be set via a list of equation as, e.g., `bc=[Eq(u[t+1, 0], 0)]` and then included in an operator via `op=Operator([main_list_of_equations]+bc)`. See the linear convection example from the first notebook of lecture 10."
      ]
    },
    {
      "cell_type": "markdown",
      "metadata": {
        "id": "-vxWEYdL6dds"
      },
      "source": [
        "## Excersie 2: Comparison against exact solution 2\n",
        "\n",
        "Consider the following boundary value problem for the 1D wave equation:\n",
        "\n",
        "\\begin{align}\n",
        "  \\frac{1}{c^2}\\frac{\\partial^2 u}{\\partial t^2}(x,t)-\\frac{\\partial^2 u}{\\partial x^2}(x,t)&=0, \\\\\n",
        "  u(0,t)=u(10,t)&= 0, \\\\\n",
        "  \\frac{\\partial u}{\\partial t}(x,0)&=0, \\\\\n",
        "  u(x,0)&=\n",
        "    \\begin{cases}\n",
        "      0, & 0 \\leq x < 4,\\\\\n",
        "      1, & 4 \\leq x \\leq 6,\\\\\n",
        "      0, & 6 < x \\leq 10.\n",
        "    \\end{cases}\n",
        "\\end{align}\n",
        "\n",
        "The initial state is illustrated in the figure below:"
      ]
    },
    {
      "cell_type": "markdown",
      "metadata": {
        "id": "_x9Ip16y6ddt"
      },
      "source": [
        "<img src=\"https://github.com/nocturnal-luke/Geophysical-inversion-undergraduate/blob/main/lectures/L5/figures/exact_solution.png?raw=1\" width=\"450\" height=\"450\" align=\"center\"/>"
      ]
    },
    {
      "cell_type": "markdown",
      "metadata": {
        "id": "u-F77q5A6ddt"
      },
      "source": [
        "- **Show that the exact solution to this problem is:**\n",
        "\\begin{equation}\n",
        " u(x,t)=\\sum_{n=1}^{\\infty}A_{n}\\sin\\left(\\frac{n\\pi x}{10}\\right)\\cos\\left(\\frac{n\\pi ct}{10}\\right),\n",
        "\\end{equation}\n",
        "where\n",
        "\\begin{equation}\n",
        "  A_n=\\frac{2}{n\\pi}\\left[\\cos\\left(\\frac{4n\\pi}{10}\\right)-\\cos\\left(\\frac{6n\\pi}{10}\\right)\\right].\n",
        "\\end{equation}"
      ]
    },
    {
      "cell_type": "markdown",
      "metadata": {
        "id": "ntbtHHJC6ddu"
      },
      "source": [
        "Below is a snippet of code to plot the exact result at any point in time. You can use it to explore the evolution of the wave. Does it produce the expected behavior?"
      ]
    },
    {
      "cell_type": "code",
      "execution_count": null,
      "metadata": {
        "id": "gon644Cm6ddu"
      },
      "outputs": [],
      "source": [
        "from numpy import sin, cos, pi, linspace, shape, zeros, mod\n",
        "\n",
        "import matplotlib.pyplot as plt\n",
        "\n",
        "# Global constants\n",
        "L = 10. # Define length of domain as a global variable\n",
        "N = 2000 # Number of terms in the Fourier sine series\n",
        "l = 1001 # Define number of points in domain\n",
        "c = 1.0 # Speed of sound\n",
        "\n",
        "x = linspace(0, L, l) # x axis for calling u(x, t) at given t\n",
        "\n",
        "# Calculate exact solution\n",
        "\n",
        "def u_e(x, t):\n",
        "    s = zeros(x.size)\n",
        "    for i in range(1,N+1):\n",
        "        s+=A_n(i)*sin(i*pi*x/L)*cos(i*pi*c*t/L)\n",
        "    return s\n",
        "\n",
        "def A_n(n):\n",
        "    const = 2/n/pi*(cos(4*n*pi/L)-cos(6*n*pi/L))\n",
        "    return const"
      ]
    },
    {
      "cell_type": "code",
      "execution_count": null,
      "metadata": {
        "id": "3jIKLmY26ddu",
        "outputId": "f5a16fa8-0a78-405a-f43e-5cf08b3fd627"
      },
      "outputs": [
        {
          "data": {
            "image/png": "[encoded data removed]",
            "text/plain": [
              "<Figure size 640x480 with 1 Axes>"
            ]
          },
          "metadata": {},
          "output_type": "display_data"
        }
      ],
      "source": [
        "%matplotlib inline\n",
        "# Plot solution at a point T in time\n",
        "T = 0\n",
        "plt.plot(x, u_e(x, T))\n",
        "plt.xlabel('x')\n",
        "plt.ylabel('u(x,0)')\n",
        "plt.show()"
      ]
    },
    {
      "cell_type": "markdown",
      "metadata": {
        "id": "fLXIE2Jr6ddv"
      },
      "source": [
        "- **Can you write a finite difference code to solve the above problem?**\n",
        "- **Can you now also solve the same problem using Devito?**\n",
        "- **How similar is your solution to the exact solution? How do you think this result can be improved?**"
      ]
    },
    {
      "cell_type": "markdown",
      "metadata": {
        "id": "Iae1OZxoltWv"
      },
      "source": [
        "The  wave equation can be written as\n",
        "\n",
        "$$u_{tt} = c^2 u_{xx}$$\n",
        "\n",
        "and the 2nd temporal and spatial derivatives are\n",
        "\n",
        "$$\\frac{\\partial^2 u}{\\partial x^2} = \\frac{u_{x+1}^t - 2u_x^{t} + u_{x -1}^{t}}{\\Delta x^2},$$\n",
        "\n",
        "and\n",
        "\n",
        "$$\\frac{\\partial^2 u}{\\partial t^2} = \\frac{u_{x}^{t+1} - 2u_x^{t} + u_{x}^{t-1}}{\\Delta t^2}.$$\n",
        "\n",
        "Thus, we can fully discretise the 1D acoustic wave equation to form a time stepping scheme, i.e.,\n",
        "\n",
        "$$u_x^{t+1} = c^2 \\frac{\\Delta t^2}{\\Delta x^2}(u_{x+1}^t - 2u_x^{t} + u_{x -1}^{t}) + 2u^t_x - u^{t-1}_{x}.$$\n",
        "\n",
        "For the purpose of a Python implementation I will write\n",
        "\n",
        "$$u_x^{t+1} = c^2 \\frac{\\Delta t^2}{\\Delta x^2}(\\delta x) + \\delta t,$$\n",
        "\n",
        "where $\\delta x = u_{x+1}^t - 2u_x^{t} + u_{x -1}^{t}$ and $\\delta t = 2u^t_x - u^{t-1}_{x}.$\n",
        "\n",
        "Let's implement this."
      ]
    },
    {
      "cell_type": "code",
      "execution_count": 143,
      "metadata": {
        "id": "lRzPMpnxlsJo"
      },
      "outputs": [],
      "source": [
        "# First, defining our spatial mesh\n",
        "\n",
        "L = 10 # length of domain\n",
        "\n",
        "nx = 1001 # number of mesh nodes\n",
        "dx = L / (nx - 1) # mesh spacing\n",
        "\n",
        "nt = 8000\n",
        "c = 1. # wavespeed\n",
        "dt = 0.5 * dx/c # size of time steps"
      ]
    },
    {
      "cell_type": "code",
      "execution_count": 144,
      "metadata": {
        "id": "pgRNvzRYmaaW"
      },
      "outputs": [],
      "source": [
        "# Defining our wavefield\n",
        "u = np.zeros((nx, nt))"
      ]
    },
    {
      "cell_type": "markdown",
      "metadata": {
        "id": "_Tu9FcwMp0W-"
      },
      "source": [
        "Note now that our BCs are mixed and we must implement a finite difference stencil to specify the Neuman condition in our code. Note, this condition implies that the initial wavespeed is zero. Discretised, the Neuman condition reads\n",
        "\n",
        "$$\\frac{\\partial u}{\\partial t} \\approx \\frac{u_{x}^{t+1} - u^t_x}{\\Delta t} = 0,$$\n",
        "\n",
        "which we can rearrange to be\n",
        "\n",
        "$$u_x^{t+1} = u_x^t .$$\n",
        "\n",
        "This is simple to implement as below."
      ]
    },
    {
      "cell_type": "code",
      "execution_count": 145,
      "metadata": {
        "id": "jVCwxoUTmwEK"
      },
      "outputs": [],
      "source": [
        "# Setting our ICs\n",
        "\n",
        "for i in range(nx): # Dirichlet portion\n",
        "    x = i * dx\n",
        "    if 4 <= x <= 6:\n",
        "        u[i, 0] = 1.0  # Initial displacement\n",
        "\n",
        "u[:, 1] = u[:, 0] # Neuman portion"
      ]
    },
    {
      "cell_type": "code",
      "execution_count": 146,
      "metadata": {
        "colab": {
          "base_uri": "https://localhost:8080/",
          "height": 491
        },
        "id": "fuT1OFwEumE5",
        "outputId": "676d0955-59b8-4f1b-95fe-290d9a3cf6fa"
      },
      "outputs": [
        {
          "data": {
            "text/plain": [
              "Text(0.5, 1.0, '$u(x, 0)$')"
            ]
          },
          "execution_count": 146,
          "metadata": {},
          "output_type": "execute_result"
        },
        {
          "data": {
            "image/png": "[encoded data removed]",
            "text/plain": [
              "<Figure size 640x480 with 1 Axes>"
            ]
          },
          "metadata": {},
          "output_type": "display_data"
        }
      ],
      "source": [
        "plt.plot(u[:,0])\n",
        "plt.xlabel('$x$')\n",
        "plt.ylabel('$u(x, t)$')\n",
        "plt.title('$u(x, 0)$')"
      ]
    },
    {
      "cell_type": "code",
      "execution_count": 147,
      "metadata": {
        "id": "iM1OMbiPrTT7"
      },
      "outputs": [],
      "source": [
        "for T in range(1, nt - 1):\n",
        "  for X in range(1, nx - 1):\n",
        "    delta_x = u[X+1, T] - 2*u[X, T] + u[X-1, T] # T-1 for last T step\n",
        "    const = c**2 * (dt**2 / dx**2)\n",
        "\n",
        "    u[X, T+1] = 2*u[X, T] - u[X, T-1] + (const * delta_x)"
      ]
    },
    {
      "cell_type": "code",
      "execution_count": 151,
      "metadata": {
        "colab": {
          "base_uri": "https://localhost:8080/",
          "height": 448
        },
        "id": "qYHucB0otYgd",
        "outputId": "596b13bd-54ea-4b35-f834-74d0eccd306e"
      },
      "outputs": [
        {
          "data": {
            "text/plain": [
              "[<matplotlib.lines.Line2D at 0x7af44b9c1210>]"
            ]
          },
          "execution_count": 151,
          "metadata": {},
          "output_type": "execute_result"
        },
        {
          "data": {
            "image/png": "[encoded data removed]",
            "text/plain": [
              "<Figure size 640x480 with 1 Axes>"
            ]
          },
          "metadata": {},
          "output_type": "display_data"
        }
      ],
      "source": [
        "plt.plot(u[:,-4000])"
      ]
    },
    {
      "cell_type": "markdown",
      "metadata": {
        "id": "4_UO-XMT7C-p"
      },
      "source": [
        "Our scheme is first order and thus is obviously subject to a lot of numerical diffusion. We can investigate how sensitive our solution is to diffusion by changing the number of spatial nodes. Above, at $T = 4000$, we have completed one half cycle and returned to the original state.\n",
        " Right, now let's implement the same thing using Devito."
      ]
    },
    {
      "cell_type": "code",
      "execution_count": null,
      "metadata": {
        "id": "mIi5ibh27OL4"
      },
      "outputs": [],
      "source": [
        "from devito import Grid, Eq, TimeFunction, Operator"
      ]
    },
    {
      "cell_type": "code",
      "execution_count": null,
      "metadata": {
        "id": "5N0YWTDQ-iIv"
      },
      "outputs": [],
      "source": [
        "# Define mesh parameters\n",
        "nx = 1001 # number of nodes\n",
        "nt = 2000 # number of time steps\n",
        "x_extent = 10 # physical x extent\n",
        "\n",
        "dx = x_extent / (dx-1) # mesh spacing\n",
        "dt = 0.004 # time step"
      ]
    },
    {
      "cell_type": "code",
      "execution_count": null,
      "metadata": {
        "id": "kaRM_zs1--HY"
      },
      "outputs": [],
      "source": [
        "# Set up mesh\n",
        "grid = Grid(shape=(nx), extent=(x_extent))\n",
        "\n",
        "t = grid.stepping_dim # ensure BC applied at each time step from inside .apply"
      ]
    },
    {
      "cell_type": "code",
      "execution_count": null,
      "metadata": {
        "id": "YwRljor1_GRg"
      },
      "outputs": [],
      "source": [
        "# Define our wavefield\n",
        "c = 1.\n",
        "u = TimeFunction(name=\"u\", grid=grid, time_order=2, space_order=2)"
      ]
    },
    {
      "cell_type": "code",
      "execution_count": null,
      "metadata": {
        "id": "CCSIb0wj_Vxw"
      },
      "outputs": [],
      "source": [
        "# Define the equation\n",
        "pde = (1/c**2) * (u.dt2-u.dx2) # wave eq\n",
        "\n",
        "stencil = solve(pde, u.forward)\n",
        "eq = Eq(u.forward, stencil) # This is our FD update scheme"
      ]
    },
    {
      "cell_type": "code",
      "execution_count": null,
      "metadata": {
        "id": "NYw4Rq7q_e7g"
      },
      "outputs": [],
      "source": [
        "# Define IC\n",
        "\n",
        "u_0 = Function(name='u_0', grid=grid)\n",
        "u_0.data[400:600] = 1"
      ]
    },
    {
      "cell_type": "code",
      "execution_count": null,
      "metadata": {
        "id": "2DqRg2C8_jCx"
      },
      "outputs": [],
      "source": [
        "# Apply BCs and ICs\n",
        "\n",
        "bc = [Eq(u[t + 1, 0], 0)]\n",
        "bc += [Eq(u[t+1, -1], 0)]\n",
        "\n",
        "# Set the ICs\n",
        "u.data[0, :] = u_0.data[:]\n",
        "u.data[1,:] = u.data[0, :]"
      ]
    },
    {
      "cell_type": "code",
      "execution_count": null,
      "metadata": {
        "colab": {
          "base_uri": "https://localhost:8080/"
        },
        "id": "fSXvnhsDBeUz",
        "outputId": "63f03d4c-7595-439b-9fdb-b802a96b77b0"
      },
      "outputs": [
        {
          "name": "stderr",
          "output_type": "stream",
          "text": [
            "Operator `Kernel` ran in 0.01 s\n",
            "INFO:Devito:Operator `Kernel` ran in 0.01 s\n"
          ]
        },
        {
          "data": {
            "text/plain": [
              "PerformanceSummary([(PerfKey(name='section0', rank=None),\n",
              "                     PerfEntry(time=0.0016059999999999649, gflopss=0.0, gpointss=0.0, oi=0.0, ops=0, itershapes=[]))])"
            ]
          },
          "execution_count": 532,
          "metadata": {},
          "output_type": "execute_result"
        }
      ],
      "source": [
        "# Generate the operator and apply\n",
        "op = Operator([eq]+bc)\n",
        "op.apply(time_m = 1, time_M = 4999, dt=dt)"
      ]
    },
    {
      "cell_type": "code",
      "execution_count": null,
      "metadata": {
        "colab": {
          "base_uri": "https://localhost:8080/",
          "height": 449
        },
        "id": "upec0fNxCRzj",
        "outputId": "741eb983-e80e-411e-91a7-fb7d89447bae"
      },
      "outputs": [
        {
          "data": {
            "image/png": "[encoded data removed]",
            "text/plain": [
              "<Figure size 640x480 with 1 Axes>"
            ]
          },
          "metadata": {},
          "output_type": "display_data"
        }
      ],
      "source": [
        "%matplotlib inline\n",
        "# Lets plot some Devito results:\n",
        "plt.plot(u.data[mod(5000,3), :])\n",
        "plt.xlabel('x')\n",
        "plt.ylabel('u(x,t)')\n",
        "plt.show()"
      ]
    },
    {
      "cell_type": "markdown",
      "metadata": {
        "id": "H64_MbJYDyOm"
      },
      "source": [
        "Above it is obvious that some numerical dispersion has occured. We can reduce this by improving our spatial order and grid/ time step resolution.\n",
        "\n"
      ]
    }
  ],
  "metadata": {
    "colab": {
      "provenance": []
    },
    "kernelspec": {
      "display_name": "Python 3",
      "language": "python",
      "name": "python3"
    },
    "language_info": {
      "codemirror_mode": {
        "name": "ipython",
        "version": 3
      },
      "file_extension": ".py",
      "mimetype": "text/x-python",
      "name": "python",
      "nbconvert_exporter": "python",
      "pygments_lexer": "ipython3",
      "version": "3.12.6"
    }
  },
  "nbformat": 4,
  "nbformat_minor": 0
}
