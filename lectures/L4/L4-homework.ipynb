{
 "cells": [
  {
   "cell_type": "markdown",
   "metadata": {
    "slideshow": {
     "slide_type": "slide"
    }
   },
   "source": [
    "# EART 70013  <a class=\"tocSkip\">\n",
    "    \n",
    "# Geophysical Inversion <a class=\"tocSkip\">    \n",
    "    \n",
    "## Lecture 4 - Homework <a class=\"tocSkip\">  "
   ]
  },
  {
   "cell_type": "markdown",
   "metadata": {
    "toc": true
   },
   "source": [
    "<h1>Table of Contents<span class=\"tocSkip\"></span></h1>\n",
    "<div class=\"toc\"><ul class=\"toc-item\"><li><span><a href=\"#Homework\" data-toc-modified-id=\"Homework-1\"><span class=\"toc-item-num\">1&nbsp;&nbsp;</span>Homework</a></span><ul class=\"toc-item\"><li><span><a href=\"#Homework---Row-operations-on-an-over-determined-problem\" data-toc-modified-id=\"Homework---Row-operations-on-an-over-determined-problem-1.1\"><span class=\"toc-item-num\">1.1&nbsp;&nbsp;</span>Homework - Row operations on an over-determined problem</a></span></li><li><span><a href=\"#Homework---An-over-determined-system-with-(by-construction)-an-exact-solution\" data-toc-modified-id=\"Homework---An-over-determined-system-with-(by-construction)-an-exact-solution-1.2\"><span class=\"toc-item-num\">1.2&nbsp;&nbsp;</span>Homework - An over-determined system with (by construction) an exact solution</a></span></li><li><span><a href=\"#Homework---Least-squares-solution-as-a-compromise-between-all-constraints\" data-toc-modified-id=\"Homework---Least-squares-solution-as-a-compromise-between-all-constraints-1.3\"><span class=\"toc-item-num\">1.3&nbsp;&nbsp;</span>Homework - Least squares solution as a compromise between all constraints</a></span></li><li><span><a href=\"#Homework---An-even-simpler-over-determined-case\" data-toc-modified-id=\"Homework---An-even-simpler-over-determined-case-1.4\"><span class=\"toc-item-num\">1.4&nbsp;&nbsp;</span>Homework - An even simpler over-determined case</a></span></li><li><span><a href=\"#Homework---Outer-product\" data-toc-modified-id=\"Homework---Outer-product-1.5\"><span class=\"toc-item-num\">1.5&nbsp;&nbsp;</span>Homework - Outer-product</a></span></li><li><span><a href=\"#Homework---Matrix-rank-and-RREF-(a-non-square-case)\" data-toc-modified-id=\"Homework---Matrix-rank-and-RREF-(a-non-square-case)-1.6\"><span class=\"toc-item-num\">1.6&nbsp;&nbsp;</span>Homework - Matrix rank and RREF (a non-square case)</a></span></li><li><span><a href=\"#Homework---Minimal-norm-solution-to-under-determined-problem\" data-toc-modified-id=\"Homework---Minimal-norm-solution-to-under-determined-problem-1.7\"><span class=\"toc-item-num\">1.7&nbsp;&nbsp;</span>Homework - Minimal-norm solution to under-determined problem</a></span></li></ul></li></ul></div>"
   ]
  },
  {
   "cell_type": "code",
   "execution_count": null,
   "metadata": {},
   "outputs": [],
   "source": [
    "%matplotlib inline\n",
    "import numpy as np\n",
    "import matplotlib.pyplot as plt\n",
    "import scipy.linalg as sl\n",
    "from pprint import pprint\n",
    "import scipy.interpolate as si"
   ]
  },
  {
   "cell_type": "markdown",
   "metadata": {},
   "source": [
    "# Homework"
   ]
  },
  {
   "cell_type": "markdown",
   "metadata": {},
   "source": [
    "## Homework - Row operations on an over-determined problem\n",
    "\n",
    "Consider the following example from the lecture\n",
    "\n",
    "$$\n",
    "\\begin{align*}\n",
    "  2x + 3y &= 7 \\\\[5pt]\n",
    "   x - 4y &= 3 \\\\[5pt]\n",
    "  -3x - 10y & = -11\n",
    "\\end{align*}\n",
    "   \\quad \\iff \\quad\n",
    "  \\begin{pmatrix}\n",
    "    2 & 3 \\\\\n",
    "    1 & -4  \\\\\n",
    "    -3 & -10 \n",
    "  \\end{pmatrix}\n",
    "  \\begin{pmatrix}\n",
    "    x \\\\\n",
    "    y \n",
    "  \\end{pmatrix}=\n",
    "  \\begin{pmatrix}\n",
    "    7 \\\\\n",
    "    3 \\\\\n",
    "    -11\n",
    "  \\end{pmatrix}   \n",
    "$$\n",
    "\n",
    "Use row operations on the augmented system in an attempt to solve this problem.\n",
    "\n",
    "<br>\n",
    "\n",
    "In doing this you will be able to also establish the rank of $A$ and the rank of the augmented matrix.\n",
    "\n",
    "What relationship do you need between these two values in order for the problem to have a solution?\n",
    "\n",
    "Can you think of an example where this wouldn't be the case and you have a system without an exact solution?"
   ]
  },
  {
   "cell_type": "markdown",
   "metadata": {},
   "source": [
    "The augmented system is $$\\left( \n",
    "    \\begin{array}{cc|c}\n",
    "        2 & 3 & 7\\\\\n",
    "        1 & -4 & 3\\\\\n",
    "        -3 & -10 & -11\\\\\n",
    "    \\end{array}\n",
    "\\right),$$\n",
    "\n",
    "and we can perform row ops as follows to transform $[A|\\mathbf{b}]$ into row echelon form from which we can extract the rank. \n",
    "\n",
    "$(3) \\leftarrow (3) - (2),$ $$\\left( \n",
    "    \\begin{array}{cc|c}\n",
    "        2 & 3 & 7\\\\\n",
    "        1 & -4 & 3\\\\\n",
    "        -4 & -6 & -14\\\\\n",
    "    \\end{array}\n",
    "\\right),$$ $(3) \\leftarrow (3) - 2\\times(1)$ $$\\left( \n",
    "    \\begin{array}{cc|c}\n",
    "        2 & 3 & 7\\\\\n",
    "        1 & -4 & 3\\\\\n",
    "        0 & 0 & 0\\\\\n",
    "    \\end{array}\n",
    "\\right),$$ $(2) \\leftarrow (2)-0.5\\times(1)$ $$\\left( \n",
    "    \\begin{array}{cc|c}\n",
    "        2 & 3 & 7\\\\\n",
    "        0 & 5/2 & -1/2\\\\\n",
    "        0 & 0 & 0\\\\\n",
    "    \\end{array}\n",
    "\\right),$$ $(1) \\leftarrow 1/2(1)$ $$\\left( \n",
    "    \\begin{array}{cc|c}\n",
    "        1 & 3/2 & 7/2\\\\\n",
    "        0 & 1 & -1/2\\\\\n",
    "        0 & 0 & 0\\\\\n",
    "    \\end{array}\n",
    "\\right),$$\n",
    "\n",
    "then we can see that $x_{:3} = \\alpha x_{:2} + \\beta x_{:1},$ where $\\alpha = \\frac{17}{4}$ and $\\beta = -\\frac{1}{2}.$ Thus, the rank of $A$ is 2 and by the Rank-Nullity Theorem the dimension of the rank of the null space must be 1. In order for there to be a solution, we must have that $Rank(A) = Rank([A| \\mathbf{b}])$. This would not be the case if, for instance, we had $$\\left( \n",
    "    \\begin{array}{cc|c}\n",
    "        1 & 3/2 & 7/2\\\\\n",
    "        0 & 1 & -1/2\\\\\n",
    "        0 & 0 & c\\\\\n",
    "    \\end{array}\n",
    "\\right),$$ where $c \\ne 0$. The rank of the augmented system in this case is three and as such equation (3) reads $0=c$, which leads to a case of non-existence, since there exists no $c \\in \\mathbb{R}, c\\ne 0$ s.t. the equation is satisfied. "
   ]
  },
  {
   "cell_type": "markdown",
   "metadata": {},
   "source": [
    "## Homework - An over-determined system with (by construction) an exact solution\n",
    "\n",
    "Recall the simple over-determined problem from the lecture\n",
    "\n",
    "`A = np.array([[2, 3], [1, -4], [1, 10]])`\n",
    "\n",
    "You were asked to think about how you could change the RHS vector only in order to come up with a version of the over-determined problem that has an exact solution. You were given the hint to think about the range of the LHS matrix $A$"
   ]
  },
  {
   "cell_type": "markdown",
   "metadata": {},
   "source": [
    "The overdetermined system in this case is $$\\begin{bmatrix}2&3 \\\\ 1&-4 \\\\ 1&10 \\end{bmatrix}\\begin{pmatrix}x \\\\ y \\end{pmatrix} = \\begin{pmatrix}a \\\\ b \\\\c \\end{pmatrix},$$ $$\\Leftrightarrow A\\mathbf{x} = \\mathbf{b},$$ where $a, b,$ and $c$ are real constants to be found s.t. the system has a solution. We must choose the LHS $\\mathbf{b}$ such that it is in the column space of a two-dimensional subspace of $A$ if there is to be a solution. \n",
    "\n",
    "The equations are $$2x+3y = a,$$ $$ x-4y = b ,$$ $$x+10y=c.$$"
   ]
  },
  {
   "cell_type": "code",
   "execution_count": 2,
   "metadata": {},
   "outputs": [],
   "source": [
    "import numpy as np\n",
    "import matplotlib.pyplot as plt"
   ]
  },
  {
   "cell_type": "code",
   "execution_count": 16,
   "metadata": {},
   "outputs": [
    {
     "data": {
      "image/png": "[encoded data removed]",
      "text/plain": [
       "<Figure size 640x480 with 1 Axes>"
      ]
     },
     "metadata": {},
     "output_type": "display_data"
    }
   ],
   "source": [
    "%matplotlib inline\n",
    "# Plotting to aid with visualisation \n",
    "\n",
    "def f1(x, a):\n",
    "    return 1/3*(a-2*x)\n",
    "\n",
    "def f2(x, b):\n",
    "    return 1/4*(x-b)\n",
    "\n",
    "def f3(x, c):\n",
    "    return 1/10*(c-x)\n",
    "\n",
    "x = np.linspace(-5, 5, 100)\n",
    "\n",
    "# Choosing our values of the constants a, b, c\n",
    "a, b, c = (0, 0, 0)\n",
    "\n",
    "y1 = [f1(xi, a) for xi in x]\n",
    "y2 = [f2(xi, b) for xi in x]\n",
    "y3 = [f3(xi, c) for xi in x]\n",
    "\n",
    "# Setting up our plot\n",
    "\n",
    "fig, ax = plt.subplots()\n",
    "\n",
    "ax.plot(x, y1, label=f'y=1/3({a}-2x)')\n",
    "ax.plot(x, y2, label=f'y=1/4(x-{b})')\n",
    "ax.plot(x, y3, label=f'y=1/10({c}-x)')\n",
    "ax.set_xlabel('x')\n",
    "ax.set_ylabel('y')\n",
    "ax.legend()\n",
    "plt.show()"
   ]
  },
  {
   "cell_type": "markdown",
   "metadata": {},
   "source": [
    "Above, we can see that the equation is satisfied for the LHS vector $\\begin{pmatrix} 0 \\\\ 0 \\\\ 0 \\end{pmatrix}$, but this is a trivial case that we do not care for. To have an exact solution, $\\mathbf{b}^T$ must be in the column space, or range, of $A$. The column space of $A$ is spanned by its two columns, i.e., $$a_{:1} = \\begin{pmatrix}2 \\\\ 1 \\\\ 1 \\end{pmatrix},$$ $$a_{:2} = \\begin{pmatrix}3 \\\\ -4 \\\\ 10 \\end{pmatrix}.$$ Thus, if $\\mathbf{b}^T$ is to be in the column space of $A$ we must be able to write $$\\mathbf{b} = \\lambda_1 a_{:1} + \\lambda_2 a_{:2},$$ where $\\lambda \\in \\mathbb{R}^{2\\times 3}$. We can expand this to be $$\\begin{pmatrix}a \\\\ b \\\\ c \\end{pmatrix} = \\lambda_1 \\begin{pmatrix} 2 \\\\ 1 \\\\ 1\\end{pmatrix} + \\lambda_2 \\begin{pmatrix} 3 \\\\ -4 \\\\ 10\\end{pmatrix},$$ $$\\Big\\Updownarrow$$ $$a =2\\lambda_1 +3\\lambda_2,$$ $$b = \\lambda_1 - 4\\lambda_2,$$ $$c = \\lambda_1 +10\\lambda_2.$$ Then with $$\\lambda_1 = b - 4\\lambda_2$$ and $$\\lambda_2 = \\frac{1}{10}(c - \\lambda_1),$$ we can write the third equation to be $$c = b+14\\lambda_2,$$ and eventually through susbtitution and expansion we find that $$a = \\frac{17b+11c}{14}.$$ Thus, any $a, \\ b,\\ c$ which satisfy the above equation are such that $\\mathbf{b}^T$ is in the column space of $A$ and a solution exists. \n",
    "\n",
    "We see of course that by choosing any one of the three to be equal to zero we may solve for a vector $\\mathbf{b}$ which is a solution to the system. For instance, with $a =1,\\ c = 0$, the solution vector is $$\\begin{pmatrix} 1 \\\\ 14/17 \\\\ 0 \\end{pmatrix},$$ which we can see is a solution below."
   ]
  },
  {
   "cell_type": "code",
   "execution_count": 22,
   "metadata": {},
   "outputs": [
    {
     "data": {
      "image/png": "[encoded data removed]",
      "text/plain": [
       "<Figure size 640x480 with 1 Axes>"
      ]
     },
     "metadata": {},
     "output_type": "display_data"
    }
   ],
   "source": [
    "%matplotlib inline\n",
    "\n",
    "fig, ax = plt.subplots()\n",
    "\n",
    "a, b, c = (1, 14/17, 0)\n",
    "\n",
    "ax.plot(x, y1, label=f'y=1/3({a}-2x)')\n",
    "ax.plot(x, y2, label=f'y=1/4(x-{b:.2f})')\n",
    "ax.plot(x, y3, label=f'y=1/10({c}-x)')\n",
    "ax.set_xlabel('x')\n",
    "ax.set_ylabel('y')\n",
    "ax.legend()\n",
    "plt.show()"
   ]
  },
  {
   "cell_type": "markdown",
   "metadata": {},
   "source": [
    "## Homework - Least squares solution as a compromise between all constraints\n",
    "\n",
    "At the end of the lecture we showed an example and noted that the least squares solution was attempting to satisfy all three constraint equations, and that the specific value found was the one which minimised $\\| A\\boldsymbol{x} - \\boldsymbol{b}\\|_2$.\n",
    "\n",
    "By perturbing the values of the obtained least squares solution, show that it is indeed the case that these lead to $\\| A\\boldsymbol{x} - \\boldsymbol{b}\\|_2$ growing."
   ]
  },
  {
   "cell_type": "markdown",
   "metadata": {},
   "source": [
    "## Homework - An even simpler over-determined case\n",
    "\n",
    "In the lecture, and above, we considered the simple case of three equations, two unknowns.\n",
    "\n",
    "Of course there is an even simpler case - two-equations, one unknown.\n",
    "\n",
    "An example might be\n",
    "\n",
    "$$\n",
    "\\begin{align*}\n",
    "  2x &= 8 \\\\[5pt]\n",
    "   3x &= 9\n",
    "\\end{align*}\n",
    "   \\quad \\iff \\quad\n",
    "  \\begin{pmatrix}\n",
    "    2 \\\\[5pt]\n",
    "    3\n",
    "  \\end{pmatrix}\n",
    "  \\begin{pmatrix}\n",
    "    x \n",
    "  \\end{pmatrix}=\n",
    "  \\begin{pmatrix}\n",
    "    8 \\\\\n",
    "    9 \n",
    "  \\end{pmatrix}   \n",
    "$$\n",
    "\n",
    "Does this have a solution?\n",
    "\n",
    "No clearly not. What solution does the least square approach return?"
   ]
  },
  {
   "cell_type": "markdown",
   "metadata": {},
   "source": [
    "## Homework - Outer-product\n",
    "\n",
    "Comnpute the outer-product ($\\boldsymbol{a}\\boldsymbol{b}^T$) of the column vectors\n",
    "\n",
    "$$\\boldsymbol{a} = \n",
    "\\begin{pmatrix}\n",
    "1 \\\\\n",
    "2\\\\\n",
    "3 \n",
    "\\end{pmatrix}, \n",
    "\\qquad\n",
    "\\boldsymbol{b} = \n",
    "\\begin{pmatrix}\n",
    "4 \\\\\n",
    "5\\\\\n",
    "6 \n",
    "\\end{pmatrix}.\n",
    "$$\n",
    "\n",
    "What is the resulting matrices rank?"
   ]
  },
  {
   "cell_type": "markdown",
   "metadata": {},
   "source": [
    "## Homework - Matrix rank and RREF (a non-square case)\n",
    "\n",
    "Consider the rectangular matrix\n",
    "\n",
    "$$\n",
    "\\begin{pmatrix}\n",
    "3 & 1 & 9 & 4 \\\\\n",
    "2 & 1 & 7 & 3 \\\\\n",
    "5 & 2 & 16 & 7 \n",
    "\\end{pmatrix}\n",
    "$$\n",
    "\n",
    "convert to REF and RREF. \n",
    "\n",
    "From these what is the rank of this matrix?\n",
    "\n",
    "What is the null space?"
   ]
  },
  {
   "cell_type": "markdown",
   "metadata": {},
   "source": [
    "## Homework - Minimal-norm solution to under-determined problem\n",
    "\n",
    "Let's begin this example from a problem already in RREF, the augmented form of the matrix with zero RHS being\n",
    "\n",
    "$$\n",
    "\\left(\n",
    "  \\begin{array}{cccc|c}\n",
    "1 & 0 & 4 & 0 & 0 \\\\\n",
    "0 & 1 & -2 & 0 & 0 \\\\\n",
    "0 & 0 & 0 & 1 & 0 \n",
    "  \\end{array}\n",
    "\\right)$$\n",
    "\n",
    "Show that the null space is given by any multiple of the following vector.\n",
    "\n",
    "$$\\boldsymbol{v}\n",
    "=\n",
    "\\begin{pmatrix}\n",
    "-4\\\\\n",
    "2\\\\\n",
    "1\\\\\n",
    "0\n",
    "\\end{pmatrix}\n",
    "$$\n",
    "\n",
    "Now consider the solution to the problem with RHS vector\n",
    "\n",
    "$$\\boldsymbol{b} = \\begin{pmatrix}\n",
    "1 \\\\\n",
    "-2\\\\\n",
    "3\n",
    "\\end{pmatrix} $$\n",
    "\n",
    "Use the minimum norm solution formula from the lecture to compute the solution.\n",
    "\n",
    "Establish that it is indeed the minimal-norm solution, i.e. that all other possible solutions you obtain by adding multiples of the null vector have a larger norm."
   ]
  }
 ],
 "metadata": {
  "celltoolbar": "Slideshow",
  "kernelspec": {
   "display_name": "Python 3",
   "language": "python",
   "name": "python3"
  },
  "language_info": {
   "codemirror_mode": {
    "name": "ipython",
    "version": 3
   },
   "file_extension": ".py",
   "mimetype": "text/x-python",
   "name": "python",
   "nbconvert_exporter": "python",
   "pygments_lexer": "ipython3",
   "version": "3.12.6"
  },
  "latex_envs": {
   "LaTeX_envs_menu_present": true,
   "autoclose": true,
   "autocomplete": true,
   "bibliofile": "biblio.bib",
   "cite_by": "apalike",
   "current_citInitial": 1,
   "eqLabelWithNumbers": true,
   "eqNumInitial": 1,
   "hotkeys": {
    "equation": "Ctrl-E",
    "itemize": "Ctrl-I"
   },
   "labels_anchors": false,
   "latex_user_defs": false,
   "report_style_numbering": false,
   "user_envs_cfg": true
  },
  "toc": {
   "base_numbering": 1,
   "nav_menu": {},
   "number_sections": true,
   "sideBar": true,
   "skip_h1_title": false,
   "title_cell": "Table of Contents",
   "title_sidebar": "Contents",
   "toc_cell": true,
   "toc_position": {},
   "toc_section_display": true,
   "toc_window_display": false
  }
 },
 "nbformat": 4,
 "nbformat_minor": 1
}
